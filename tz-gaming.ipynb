{
 "cells": [
  {
   "cell_type": "markdown",
   "metadata": {},
   "source": [
    "# TZ Gaming: Optimal Targeting of Mobile Ads"
   ]
  },
  {
   "cell_type": "code",
   "execution_count": 1,
   "metadata": {},
   "outputs": [],
   "source": [
    "import os\n",
    "\n",
    "import matplotlib as mpl\n",
    "import matplotlib.pyplot as plt\n",
    "import numpy as np\n",
    "import pandas as pd\n",
    "import pyrsm as rsm\n",
    "import seaborn as sns\n",
    "import statsmodels.formula.api as smf\n",
    "from sklearn import preprocessing\n",
    "from statsmodels.genmod.families import Binomial\n",
    "from statsmodels.genmod.families.links import logit"
   ]
  },
  {
   "cell_type": "code",
   "execution_count": 2,
   "metadata": {},
   "outputs": [],
   "source": [
    "# increase plot resolution\n",
    "mpl.rcParams[\"figure.dpi\"] = 200"
   ]
  },
  {
   "cell_type": "code",
   "execution_count": 3,
   "metadata": {},
   "outputs": [
    {
     "data": {
      "text/plain": [
       "'/home/jovyan/git/rsm-mgta455-tz-gaming'"
      ]
     },
     "execution_count": 3,
     "metadata": {},
     "output_type": "execute_result"
    }
   ],
   "source": [
    "# check the working directory used, should be location of this notebook\n",
    "os.getcwd()"
   ]
  },
  {
   "cell_type": "code",
   "execution_count": 4,
   "metadata": {},
   "outputs": [],
   "source": [
    "# loading data\n",
    "tz_gaming = pd.read_pickle(\"data/tz_gaming.pkl\")"
   ]
  },
  {
   "cell_type": "markdown",
   "metadata": {},
   "source": [
    "## Part I: Logistic regression\n",
    "a. Estimate a logistic regression model with the following variables `time_fct app mobile_os impua clua ctrua` as the explanatory and `click_yes` as the response variable"
   ]
  },
  {
   "cell_type": "code",
   "execution_count": 5,
   "metadata": {},
   "outputs": [],
   "source": [
    "tz_gaming[\"click_yes\"] = (tz_gaming[\"click\"] == \"yes\").astype(int)"
   ]
  },
  {
   "cell_type": "code",
   "execution_count": 6,
   "metadata": {},
   "outputs": [],
   "source": [
    "# Logistic regression via statsmodel (using the formula API)\n",
    "lr_mod_a = smf.glm(\n",
    "    formula=\"click_yes ~ time_fct + app + mobile_os + impua + clua + ctrua\",\n",
    "    family=Binomial(link=logit()),\n",
    "    data=tz_gaming.query(\"training == 'train'\")\n",
    ")"
   ]
  },
  {
   "cell_type": "markdown",
   "metadata": {
    "lines_to_next_cell": 2
   },
   "source": [
    "###  b. Summarize and interpret the logistic regression results\n",
    "\n",
    "Which of these explanatory variables are statistically significant? Which variables seem to be most “important”? Make sure your model evaluation includes (1) an interpretation of the odds-ratios estimated for the explanatory variables mobile_os, impua, clua, and ctrua and (2) an evaluation of the model as a whole."
   ]
  },
  {
   "cell_type": "code",
   "execution_count": 7,
   "metadata": {},
   "outputs": [
    {
     "data": {
      "text/html": [
       "<table class=\"simpletable\">\n",
       "<caption>Generalized Linear Model Regression Results</caption>\n",
       "<tr>\n",
       "  <th>Dep. Variable:</th>       <td>click_yes</td>    <th>  No. Observations:  </th>  <td> 87535</td> \n",
       "</tr>\n",
       "<tr>\n",
       "  <th>Model:</th>                  <td>GLM</td>       <th>  Df Residuals:      </th>  <td> 87458</td> \n",
       "</tr>\n",
       "<tr>\n",
       "  <th>Model Family:</th>        <td>Binomial</td>     <th>  Df Model:          </th>  <td>    76</td> \n",
       "</tr>\n",
       "<tr>\n",
       "  <th>Link Function:</th>         <td>logit</td>      <th>  Scale:             </th> <td>  1.0000</td>\n",
       "</tr>\n",
       "<tr>\n",
       "  <th>Method:</th>                <td>IRLS</td>       <th>  Log-Likelihood:    </th> <td> -3946.1</td>\n",
       "</tr>\n",
       "<tr>\n",
       "  <th>Date:</th>            <td>Thu, 04 Feb 2021</td> <th>  Deviance:          </th> <td>  7892.1</td>\n",
       "</tr>\n",
       "<tr>\n",
       "  <th>Time:</th>                <td>03:25:02</td>     <th>  Pearson chi2:      </th> <td>1.60e+05</td>\n",
       "</tr>\n",
       "<tr>\n",
       "  <th>No. Iterations:</th>         <td>27</td>        <th>                     </th>     <td> </td>   \n",
       "</tr>\n",
       "<tr>\n",
       "  <th>Covariance Type:</th>     <td>nonrobust</td>    <th>                     </th>     <td> </td>   \n",
       "</tr>\n",
       "</table>\n",
       "<table class=\"simpletable\">\n",
       "<tr>\n",
       "           <td></td>             <th>coef</th>     <th>std err</th>      <th>z</th>      <th>P>|z|</th>  <th>[0.025</th>    <th>0.975]</th>  \n",
       "</tr>\n",
       "<tr>\n",
       "  <th>Intercept</th>          <td>   -3.5282</td> <td>    0.197</td> <td>  -17.936</td> <td> 0.000</td> <td>   -3.914</td> <td>   -3.143</td>\n",
       "</tr>\n",
       "<tr>\n",
       "  <th>time_fct[T.2]</th>      <td>   -0.4741</td> <td>    0.321</td> <td>   -1.478</td> <td> 0.139</td> <td>   -1.103</td> <td>    0.155</td>\n",
       "</tr>\n",
       "<tr>\n",
       "  <th>time_fct[T.3]</th>      <td>   -0.3317</td> <td>    0.454</td> <td>   -0.730</td> <td> 0.466</td> <td>   -1.222</td> <td>    0.559</td>\n",
       "</tr>\n",
       "<tr>\n",
       "  <th>time_fct[T.4]</th>      <td>  -23.5430</td> <td>  4.2e+04</td> <td>   -0.001</td> <td> 1.000</td> <td>-8.24e+04</td> <td> 8.23e+04</td>\n",
       "</tr>\n",
       "<tr>\n",
       "  <th>time_fct[T.5]</th>      <td>  -23.7205</td> <td> 5.52e+04</td> <td>   -0.000</td> <td> 1.000</td> <td>-1.08e+05</td> <td> 1.08e+05</td>\n",
       "</tr>\n",
       "<tr>\n",
       "  <th>time_fct[T.6]</th>      <td>   -1.0516</td> <td>    1.021</td> <td>   -1.030</td> <td> 0.303</td> <td>   -3.053</td> <td>    0.950</td>\n",
       "</tr>\n",
       "<tr>\n",
       "  <th>time_fct[T.7]</th>      <td>    0.1997</td> <td>    0.426</td> <td>    0.468</td> <td> 0.640</td> <td>   -0.636</td> <td>    1.036</td>\n",
       "</tr>\n",
       "<tr>\n",
       "  <th>time_fct[T.8]</th>      <td>    0.0992</td> <td>    0.296</td> <td>    0.335</td> <td> 0.737</td> <td>   -0.481</td> <td>    0.679</td>\n",
       "</tr>\n",
       "<tr>\n",
       "  <th>time_fct[T.9]</th>      <td>    0.0289</td> <td>    0.287</td> <td>    0.101</td> <td> 0.920</td> <td>   -0.534</td> <td>    0.592</td>\n",
       "</tr>\n",
       "<tr>\n",
       "  <th>time_fct[T.10]</th>     <td>   -0.1866</td> <td>    0.295</td> <td>   -0.633</td> <td> 0.527</td> <td>   -0.764</td> <td>    0.391</td>\n",
       "</tr>\n",
       "<tr>\n",
       "  <th>time_fct[T.11]</th>     <td>   -0.4515</td> <td>    0.276</td> <td>   -1.635</td> <td> 0.102</td> <td>   -0.993</td> <td>    0.090</td>\n",
       "</tr>\n",
       "<tr>\n",
       "  <th>time_fct[T.12]</th>     <td>   -0.1351</td> <td>    0.280</td> <td>   -0.483</td> <td> 0.629</td> <td>   -0.683</td> <td>    0.413</td>\n",
       "</tr>\n",
       "<tr>\n",
       "  <th>time_fct[T.13]</th>     <td>   -0.5281</td> <td>    0.290</td> <td>   -1.823</td> <td> 0.068</td> <td>   -1.096</td> <td>    0.040</td>\n",
       "</tr>\n",
       "<tr>\n",
       "  <th>time_fct[T.14]</th>     <td>    0.0944</td> <td>    0.225</td> <td>    0.419</td> <td> 0.675</td> <td>   -0.347</td> <td>    0.536</td>\n",
       "</tr>\n",
       "<tr>\n",
       "  <th>time_fct[T.15]</th>     <td>   -0.0140</td> <td>    0.225</td> <td>   -0.062</td> <td> 0.951</td> <td>   -0.455</td> <td>    0.428</td>\n",
       "</tr>\n",
       "<tr>\n",
       "  <th>time_fct[T.16]</th>     <td>    0.0453</td> <td>    0.233</td> <td>    0.195</td> <td> 0.846</td> <td>   -0.411</td> <td>    0.502</td>\n",
       "</tr>\n",
       "<tr>\n",
       "  <th>time_fct[T.17]</th>     <td>    0.0138</td> <td>    0.250</td> <td>    0.055</td> <td> 0.956</td> <td>   -0.477</td> <td>    0.504</td>\n",
       "</tr>\n",
       "<tr>\n",
       "  <th>time_fct[T.18]</th>     <td>    0.0595</td> <td>    0.247</td> <td>    0.241</td> <td> 0.809</td> <td>   -0.424</td> <td>    0.543</td>\n",
       "</tr>\n",
       "<tr>\n",
       "  <th>time_fct[T.19]</th>     <td>    0.2500</td> <td>    0.233</td> <td>    1.072</td> <td> 0.284</td> <td>   -0.207</td> <td>    0.707</td>\n",
       "</tr>\n",
       "<tr>\n",
       "  <th>time_fct[T.20]</th>     <td>    0.2019</td> <td>    0.231</td> <td>    0.873</td> <td> 0.382</td> <td>   -0.251</td> <td>    0.655</td>\n",
       "</tr>\n",
       "<tr>\n",
       "  <th>time_fct[T.21]</th>     <td>   -0.1422</td> <td>    0.244</td> <td>   -0.584</td> <td> 0.559</td> <td>   -0.620</td> <td>    0.335</td>\n",
       "</tr>\n",
       "<tr>\n",
       "  <th>time_fct[T.22]</th>     <td>   -0.0302</td> <td>    0.238</td> <td>   -0.127</td> <td> 0.899</td> <td>   -0.496</td> <td>    0.436</td>\n",
       "</tr>\n",
       "<tr>\n",
       "  <th>time_fct[T.23]</th>     <td>    0.0428</td> <td>    0.238</td> <td>    0.180</td> <td> 0.857</td> <td>   -0.424</td> <td>    0.509</td>\n",
       "</tr>\n",
       "<tr>\n",
       "  <th>time_fct[T.24]</th>     <td>    0.0941</td> <td>    0.229</td> <td>    0.410</td> <td> 0.682</td> <td>   -0.356</td> <td>    0.544</td>\n",
       "</tr>\n",
       "<tr>\n",
       "  <th>app[T.app2]</th>        <td>   -2.0905</td> <td>    0.229</td> <td>   -9.127</td> <td> 0.000</td> <td>   -2.539</td> <td>   -1.642</td>\n",
       "</tr>\n",
       "<tr>\n",
       "  <th>app[T.app3]</th>        <td>   -1.6937</td> <td>    1.003</td> <td>   -1.689</td> <td> 0.091</td> <td>   -3.659</td> <td>    0.272</td>\n",
       "</tr>\n",
       "<tr>\n",
       "  <th>app[T.app4]</th>        <td>   -0.9601</td> <td>    0.321</td> <td>   -2.988</td> <td> 0.003</td> <td>   -1.590</td> <td>   -0.330</td>\n",
       "</tr>\n",
       "<tr>\n",
       "  <th>app[T.app5]</th>        <td>   -1.2644</td> <td>    1.005</td> <td>   -1.258</td> <td> 0.208</td> <td>   -3.234</td> <td>    0.705</td>\n",
       "</tr>\n",
       "<tr>\n",
       "  <th>app[T.app6]</th>        <td>   -0.4288</td> <td>    0.175</td> <td>   -2.457</td> <td> 0.014</td> <td>   -0.771</td> <td>   -0.087</td>\n",
       "</tr>\n",
       "<tr>\n",
       "  <th>app[T.app7]</th>        <td>   -0.5169</td> <td>    1.007</td> <td>   -0.513</td> <td> 0.608</td> <td>   -2.491</td> <td>    1.458</td>\n",
       "</tr>\n",
       "<tr>\n",
       "  <th>app[T.app8]</th>        <td>  -24.3740</td> <td> 7.17e+04</td> <td>   -0.000</td> <td> 1.000</td> <td>-1.41e+05</td> <td>  1.4e+05</td>\n",
       "</tr>\n",
       "<tr>\n",
       "  <th>app[T.app9]</th>        <td>   -0.2899</td> <td>    0.236</td> <td>   -1.227</td> <td> 0.220</td> <td>   -0.753</td> <td>    0.173</td>\n",
       "</tr>\n",
       "<tr>\n",
       "  <th>app[T.app10]</th>       <td>  -23.8906</td> <td> 6.71e+04</td> <td>   -0.000</td> <td> 1.000</td> <td>-1.31e+05</td> <td> 1.31e+05</td>\n",
       "</tr>\n",
       "<tr>\n",
       "  <th>app[T.app11]</th>       <td>    0.0497</td> <td>    0.719</td> <td>    0.069</td> <td> 0.945</td> <td>   -1.360</td> <td>    1.460</td>\n",
       "</tr>\n",
       "<tr>\n",
       "  <th>app[T.app12]</th>       <td>   -0.3377</td> <td>    0.224</td> <td>   -1.504</td> <td> 0.133</td> <td>   -0.778</td> <td>    0.102</td>\n",
       "</tr>\n",
       "<tr>\n",
       "  <th>app[T.app13]</th>       <td>    0.7566</td> <td>    0.204</td> <td>    3.709</td> <td> 0.000</td> <td>    0.357</td> <td>    1.156</td>\n",
       "</tr>\n",
       "<tr>\n",
       "  <th>app[T.app14]</th>       <td>   -1.5252</td> <td>    0.451</td> <td>   -3.384</td> <td> 0.001</td> <td>   -2.409</td> <td>   -0.642</td>\n",
       "</tr>\n",
       "<tr>\n",
       "  <th>app[T.app15]</th>       <td>   -0.7721</td> <td>    0.717</td> <td>   -1.077</td> <td> 0.281</td> <td>   -2.177</td> <td>    0.632</td>\n",
       "</tr>\n",
       "<tr>\n",
       "  <th>app[T.app16]</th>       <td>   -1.3831</td> <td>    0.711</td> <td>   -1.945</td> <td> 0.052</td> <td>   -2.777</td> <td>    0.011</td>\n",
       "</tr>\n",
       "<tr>\n",
       "  <th>app[T.app17]</th>       <td>   -0.1258</td> <td>    0.724</td> <td>   -0.174</td> <td> 0.862</td> <td>   -1.546</td> <td>    1.294</td>\n",
       "</tr>\n",
       "<tr>\n",
       "  <th>app[T.app18]</th>       <td>   -2.5925</td> <td>    1.002</td> <td>   -2.586</td> <td> 0.010</td> <td>   -4.557</td> <td>   -0.628</td>\n",
       "</tr>\n",
       "<tr>\n",
       "  <th>app[T.app19]</th>       <td>  -24.3657</td> <td> 9.24e+04</td> <td>   -0.000</td> <td> 1.000</td> <td>-1.81e+05</td> <td> 1.81e+05</td>\n",
       "</tr>\n",
       "<tr>\n",
       "  <th>app[T.app20]</th>       <td>  -24.2107</td> <td> 7.16e+04</td> <td>   -0.000</td> <td> 1.000</td> <td> -1.4e+05</td> <td>  1.4e+05</td>\n",
       "</tr>\n",
       "<tr>\n",
       "  <th>app[T.app21]</th>       <td>   -1.0870</td> <td>    0.383</td> <td>   -2.839</td> <td> 0.005</td> <td>   -1.837</td> <td>   -0.337</td>\n",
       "</tr>\n",
       "<tr>\n",
       "  <th>app[T.app22]</th>       <td>   -1.1361</td> <td>    1.005</td> <td>   -1.130</td> <td> 0.258</td> <td>   -3.106</td> <td>    0.834</td>\n",
       "</tr>\n",
       "<tr>\n",
       "  <th>app[T.app23]</th>       <td>    1.1350</td> <td>    0.392</td> <td>    2.898</td> <td> 0.004</td> <td>    0.367</td> <td>    1.903</td>\n",
       "</tr>\n",
       "<tr>\n",
       "  <th>app[T.app24]</th>       <td>    0.4635</td> <td>    0.273</td> <td>    1.701</td> <td> 0.089</td> <td>   -0.071</td> <td>    0.998</td>\n",
       "</tr>\n",
       "<tr>\n",
       "  <th>app[T.app25]</th>       <td>   -0.0253</td> <td>    0.594</td> <td>   -0.042</td> <td> 0.966</td> <td>   -1.190</td> <td>    1.139</td>\n",
       "</tr>\n",
       "<tr>\n",
       "  <th>app[T.app26]</th>       <td>  -24.4705</td> <td> 6.26e+04</td> <td>   -0.000</td> <td> 1.000</td> <td>-1.23e+05</td> <td> 1.23e+05</td>\n",
       "</tr>\n",
       "<tr>\n",
       "  <th>app[T.app27]</th>       <td>   -1.6010</td> <td>    0.711</td> <td>   -2.253</td> <td> 0.024</td> <td>   -2.994</td> <td>   -0.208</td>\n",
       "</tr>\n",
       "<tr>\n",
       "  <th>app[T.app28]</th>       <td>   -1.1144</td> <td>    0.581</td> <td>   -1.918</td> <td> 0.055</td> <td>   -2.253</td> <td>    0.024</td>\n",
       "</tr>\n",
       "<tr>\n",
       "  <th>app[T.app29]</th>       <td>    0.9687</td> <td>    0.345</td> <td>    2.805</td> <td> 0.005</td> <td>    0.292</td> <td>    1.645</td>\n",
       "</tr>\n",
       "<tr>\n",
       "  <th>app[T.app30]</th>       <td>  -24.3855</td> <td> 8.58e+04</td> <td>   -0.000</td> <td> 1.000</td> <td>-1.68e+05</td> <td> 1.68e+05</td>\n",
       "</tr>\n",
       "<tr>\n",
       "  <th>app[T.app31]</th>       <td>   -1.4031</td> <td>    0.710</td> <td>   -1.975</td> <td> 0.048</td> <td>   -2.795</td> <td>   -0.011</td>\n",
       "</tr>\n",
       "<tr>\n",
       "  <th>app[T.app32]</th>       <td>  -23.1573</td> <td> 4.67e+04</td> <td>   -0.000</td> <td> 1.000</td> <td>-9.15e+04</td> <td> 9.14e+04</td>\n",
       "</tr>\n",
       "<tr>\n",
       "  <th>app[T.app33]</th>       <td>   -0.6675</td> <td>    0.338</td> <td>   -1.974</td> <td> 0.048</td> <td>   -1.330</td> <td>   -0.005</td>\n",
       "</tr>\n",
       "<tr>\n",
       "  <th>app[T.app34]</th>       <td>  -24.2206</td> <td> 5.48e+04</td> <td>   -0.000</td> <td> 1.000</td> <td>-1.07e+05</td> <td> 1.07e+05</td>\n",
       "</tr>\n",
       "<tr>\n",
       "  <th>app[T.app35]</th>       <td>   -1.4861</td> <td>    1.004</td> <td>   -1.480</td> <td> 0.139</td> <td>   -3.454</td> <td>    0.482</td>\n",
       "</tr>\n",
       "<tr>\n",
       "  <th>app[T.app36]</th>       <td>  -24.1224</td> <td> 7.67e+04</td> <td>   -0.000</td> <td> 1.000</td> <td> -1.5e+05</td> <td>  1.5e+05</td>\n",
       "</tr>\n",
       "<tr>\n",
       "  <th>app[T.app37]</th>       <td>   -0.8356</td> <td>    0.714</td> <td>   -1.171</td> <td> 0.242</td> <td>   -2.234</td> <td>    0.563</td>\n",
       "</tr>\n",
       "<tr>\n",
       "  <th>app[T.app38]</th>       <td>  -23.8635</td> <td> 5.34e+04</td> <td>   -0.000</td> <td> 1.000</td> <td>-1.05e+05</td> <td> 1.05e+05</td>\n",
       "</tr>\n",
       "<tr>\n",
       "  <th>app[T.app39]</th>       <td>    0.5544</td> <td>    0.419</td> <td>    1.322</td> <td> 0.186</td> <td>   -0.268</td> <td>    1.377</td>\n",
       "</tr>\n",
       "<tr>\n",
       "  <th>app[T.app40]</th>       <td>    0.0047</td> <td>    0.514</td> <td>    0.009</td> <td> 0.993</td> <td>   -1.002</td> <td>    1.012</td>\n",
       "</tr>\n",
       "<tr>\n",
       "  <th>app[T.app41]</th>       <td>   -0.4596</td> <td>    0.714</td> <td>   -0.644</td> <td> 0.519</td> <td>   -1.858</td> <td>    0.939</td>\n",
       "</tr>\n",
       "<tr>\n",
       "  <th>app[T.app42]</th>       <td>    0.6978</td> <td>    0.369</td> <td>    1.889</td> <td> 0.059</td> <td>   -0.026</td> <td>    1.422</td>\n",
       "</tr>\n",
       "<tr>\n",
       "  <th>app[T.app43]</th>       <td>  -24.4658</td> <td>  7.5e+04</td> <td>   -0.000</td> <td> 1.000</td> <td>-1.47e+05</td> <td> 1.47e+05</td>\n",
       "</tr>\n",
       "<tr>\n",
       "  <th>app[T.app44]</th>       <td>  -24.2382</td> <td> 4.57e+04</td> <td>   -0.001</td> <td> 1.000</td> <td>-8.96e+04</td> <td> 8.96e+04</td>\n",
       "</tr>\n",
       "<tr>\n",
       "  <th>app[T.app45]</th>       <td>    0.3912</td> <td>    0.588</td> <td>    0.665</td> <td> 0.506</td> <td>   -0.761</td> <td>    1.543</td>\n",
       "</tr>\n",
       "<tr>\n",
       "  <th>app[T.app46]</th>       <td>   -1.2161</td> <td>    1.005</td> <td>   -1.210</td> <td> 0.226</td> <td>   -3.185</td> <td>    0.753</td>\n",
       "</tr>\n",
       "<tr>\n",
       "  <th>app[T.app47]</th>       <td>   -1.2411</td> <td>    1.005</td> <td>   -1.235</td> <td> 0.217</td> <td>   -3.210</td> <td>    0.728</td>\n",
       "</tr>\n",
       "<tr>\n",
       "  <th>app[T.app48]</th>       <td>  -24.0297</td> <td> 1.02e+05</td> <td>   -0.000</td> <td> 1.000</td> <td>   -2e+05</td> <td>    2e+05</td>\n",
       "</tr>\n",
       "<tr>\n",
       "  <th>app[T.app49]</th>       <td>   -1.4236</td> <td>    1.004</td> <td>   -1.418</td> <td> 0.156</td> <td>   -3.391</td> <td>    0.544</td>\n",
       "</tr>\n",
       "<tr>\n",
       "  <th>mobile_os[T.ios]</th>   <td>   -0.7985</td> <td>    0.076</td> <td>  -10.440</td> <td> 0.000</td> <td>   -0.948</td> <td>   -0.649</td>\n",
       "</tr>\n",
       "<tr>\n",
       "  <th>mobile_os[T.other]</th> <td>   -0.3299</td> <td>    0.183</td> <td>   -1.801</td> <td> 0.072</td> <td>   -0.689</td> <td>    0.029</td>\n",
       "</tr>\n",
       "<tr>\n",
       "  <th>impua</th>              <td>   -0.0215</td> <td>    0.002</td> <td>  -11.386</td> <td> 0.000</td> <td>   -0.025</td> <td>   -0.018</td>\n",
       "</tr>\n",
       "<tr>\n",
       "  <th>clua</th>               <td>    0.2585</td> <td>    0.058</td> <td>    4.452</td> <td> 0.000</td> <td>    0.145</td> <td>    0.372</td>\n",
       "</tr>\n",
       "<tr>\n",
       "  <th>ctrua</th>              <td>    0.0214</td> <td>    0.002</td> <td>    9.058</td> <td> 0.000</td> <td>    0.017</td> <td>    0.026</td>\n",
       "</tr>\n",
       "</table>"
      ],
      "text/plain": [
       "<class 'statsmodels.iolib.summary.Summary'>\n",
       "\"\"\"\n",
       "                 Generalized Linear Model Regression Results                  \n",
       "==============================================================================\n",
       "Dep. Variable:              click_yes   No. Observations:                87535\n",
       "Model:                            GLM   Df Residuals:                    87458\n",
       "Model Family:                Binomial   Df Model:                           76\n",
       "Link Function:                  logit   Scale:                          1.0000\n",
       "Method:                          IRLS   Log-Likelihood:                -3946.1\n",
       "Date:                Thu, 04 Feb 2021   Deviance:                       7892.1\n",
       "Time:                        03:25:02   Pearson chi2:                 1.60e+05\n",
       "No. Iterations:                    27                                         \n",
       "Covariance Type:            nonrobust                                         \n",
       "======================================================================================\n",
       "                         coef    std err          z      P>|z|      [0.025      0.975]\n",
       "--------------------------------------------------------------------------------------\n",
       "Intercept             -3.5282      0.197    -17.936      0.000      -3.914      -3.143\n",
       "time_fct[T.2]         -0.4741      0.321     -1.478      0.139      -1.103       0.155\n",
       "time_fct[T.3]         -0.3317      0.454     -0.730      0.466      -1.222       0.559\n",
       "time_fct[T.4]        -23.5430    4.2e+04     -0.001      1.000   -8.24e+04    8.23e+04\n",
       "time_fct[T.5]        -23.7205   5.52e+04     -0.000      1.000   -1.08e+05    1.08e+05\n",
       "time_fct[T.6]         -1.0516      1.021     -1.030      0.303      -3.053       0.950\n",
       "time_fct[T.7]          0.1997      0.426      0.468      0.640      -0.636       1.036\n",
       "time_fct[T.8]          0.0992      0.296      0.335      0.737      -0.481       0.679\n",
       "time_fct[T.9]          0.0289      0.287      0.101      0.920      -0.534       0.592\n",
       "time_fct[T.10]        -0.1866      0.295     -0.633      0.527      -0.764       0.391\n",
       "time_fct[T.11]        -0.4515      0.276     -1.635      0.102      -0.993       0.090\n",
       "time_fct[T.12]        -0.1351      0.280     -0.483      0.629      -0.683       0.413\n",
       "time_fct[T.13]        -0.5281      0.290     -1.823      0.068      -1.096       0.040\n",
       "time_fct[T.14]         0.0944      0.225      0.419      0.675      -0.347       0.536\n",
       "time_fct[T.15]        -0.0140      0.225     -0.062      0.951      -0.455       0.428\n",
       "time_fct[T.16]         0.0453      0.233      0.195      0.846      -0.411       0.502\n",
       "time_fct[T.17]         0.0138      0.250      0.055      0.956      -0.477       0.504\n",
       "time_fct[T.18]         0.0595      0.247      0.241      0.809      -0.424       0.543\n",
       "time_fct[T.19]         0.2500      0.233      1.072      0.284      -0.207       0.707\n",
       "time_fct[T.20]         0.2019      0.231      0.873      0.382      -0.251       0.655\n",
       "time_fct[T.21]        -0.1422      0.244     -0.584      0.559      -0.620       0.335\n",
       "time_fct[T.22]        -0.0302      0.238     -0.127      0.899      -0.496       0.436\n",
       "time_fct[T.23]         0.0428      0.238      0.180      0.857      -0.424       0.509\n",
       "time_fct[T.24]         0.0941      0.229      0.410      0.682      -0.356       0.544\n",
       "app[T.app2]           -2.0905      0.229     -9.127      0.000      -2.539      -1.642\n",
       "app[T.app3]           -1.6937      1.003     -1.689      0.091      -3.659       0.272\n",
       "app[T.app4]           -0.9601      0.321     -2.988      0.003      -1.590      -0.330\n",
       "app[T.app5]           -1.2644      1.005     -1.258      0.208      -3.234       0.705\n",
       "app[T.app6]           -0.4288      0.175     -2.457      0.014      -0.771      -0.087\n",
       "app[T.app7]           -0.5169      1.007     -0.513      0.608      -2.491       1.458\n",
       "app[T.app8]          -24.3740   7.17e+04     -0.000      1.000   -1.41e+05     1.4e+05\n",
       "app[T.app9]           -0.2899      0.236     -1.227      0.220      -0.753       0.173\n",
       "app[T.app10]         -23.8906   6.71e+04     -0.000      1.000   -1.31e+05    1.31e+05\n",
       "app[T.app11]           0.0497      0.719      0.069      0.945      -1.360       1.460\n",
       "app[T.app12]          -0.3377      0.224     -1.504      0.133      -0.778       0.102\n",
       "app[T.app13]           0.7566      0.204      3.709      0.000       0.357       1.156\n",
       "app[T.app14]          -1.5252      0.451     -3.384      0.001      -2.409      -0.642\n",
       "app[T.app15]          -0.7721      0.717     -1.077      0.281      -2.177       0.632\n",
       "app[T.app16]          -1.3831      0.711     -1.945      0.052      -2.777       0.011\n",
       "app[T.app17]          -0.1258      0.724     -0.174      0.862      -1.546       1.294\n",
       "app[T.app18]          -2.5925      1.002     -2.586      0.010      -4.557      -0.628\n",
       "app[T.app19]         -24.3657   9.24e+04     -0.000      1.000   -1.81e+05    1.81e+05\n",
       "app[T.app20]         -24.2107   7.16e+04     -0.000      1.000    -1.4e+05     1.4e+05\n",
       "app[T.app21]          -1.0870      0.383     -2.839      0.005      -1.837      -0.337\n",
       "app[T.app22]          -1.1361      1.005     -1.130      0.258      -3.106       0.834\n",
       "app[T.app23]           1.1350      0.392      2.898      0.004       0.367       1.903\n",
       "app[T.app24]           0.4635      0.273      1.701      0.089      -0.071       0.998\n",
       "app[T.app25]          -0.0253      0.594     -0.042      0.966      -1.190       1.139\n",
       "app[T.app26]         -24.4705   6.26e+04     -0.000      1.000   -1.23e+05    1.23e+05\n",
       "app[T.app27]          -1.6010      0.711     -2.253      0.024      -2.994      -0.208\n",
       "app[T.app28]          -1.1144      0.581     -1.918      0.055      -2.253       0.024\n",
       "app[T.app29]           0.9687      0.345      2.805      0.005       0.292       1.645\n",
       "app[T.app30]         -24.3855   8.58e+04     -0.000      1.000   -1.68e+05    1.68e+05\n",
       "app[T.app31]          -1.4031      0.710     -1.975      0.048      -2.795      -0.011\n",
       "app[T.app32]         -23.1573   4.67e+04     -0.000      1.000   -9.15e+04    9.14e+04\n",
       "app[T.app33]          -0.6675      0.338     -1.974      0.048      -1.330      -0.005\n",
       "app[T.app34]         -24.2206   5.48e+04     -0.000      1.000   -1.07e+05    1.07e+05\n",
       "app[T.app35]          -1.4861      1.004     -1.480      0.139      -3.454       0.482\n",
       "app[T.app36]         -24.1224   7.67e+04     -0.000      1.000    -1.5e+05     1.5e+05\n",
       "app[T.app37]          -0.8356      0.714     -1.171      0.242      -2.234       0.563\n",
       "app[T.app38]         -23.8635   5.34e+04     -0.000      1.000   -1.05e+05    1.05e+05\n",
       "app[T.app39]           0.5544      0.419      1.322      0.186      -0.268       1.377\n",
       "app[T.app40]           0.0047      0.514      0.009      0.993      -1.002       1.012\n",
       "app[T.app41]          -0.4596      0.714     -0.644      0.519      -1.858       0.939\n",
       "app[T.app42]           0.6978      0.369      1.889      0.059      -0.026       1.422\n",
       "app[T.app43]         -24.4658    7.5e+04     -0.000      1.000   -1.47e+05    1.47e+05\n",
       "app[T.app44]         -24.2382   4.57e+04     -0.001      1.000   -8.96e+04    8.96e+04\n",
       "app[T.app45]           0.3912      0.588      0.665      0.506      -0.761       1.543\n",
       "app[T.app46]          -1.2161      1.005     -1.210      0.226      -3.185       0.753\n",
       "app[T.app47]          -1.2411      1.005     -1.235      0.217      -3.210       0.728\n",
       "app[T.app48]         -24.0297   1.02e+05     -0.000      1.000      -2e+05       2e+05\n",
       "app[T.app49]          -1.4236      1.004     -1.418      0.156      -3.391       0.544\n",
       "mobile_os[T.ios]      -0.7985      0.076    -10.440      0.000      -0.948      -0.649\n",
       "mobile_os[T.other]    -0.3299      0.183     -1.801      0.072      -0.689       0.029\n",
       "impua                 -0.0215      0.002    -11.386      0.000      -0.025      -0.018\n",
       "clua                   0.2585      0.058      4.452      0.000       0.145       0.372\n",
       "ctrua                  0.0214      0.002      9.058      0.000       0.017       0.026\n",
       "======================================================================================\n",
       "\"\"\""
      ]
     },
     "execution_count": 7,
     "metadata": {},
     "output_type": "execute_result"
    }
   ],
   "source": [
    "# discuss and add any code need to calculate additional statistics you may need\n",
    "\n",
    "lr_a = lr_mod_a.fit()\n",
    "lr_a.summary()"
   ]
  },
  {
   "cell_type": "code",
   "execution_count": 8,
   "metadata": {},
   "outputs": [
    {
     "data": {
      "text/html": [
       "<div>\n",
       "<style scoped>\n",
       "    .dataframe tbody tr th:only-of-type {\n",
       "        vertical-align: middle;\n",
       "    }\n",
       "\n",
       "    .dataframe tbody tr th {\n",
       "        vertical-align: top;\n",
       "    }\n",
       "\n",
       "    .dataframe thead th {\n",
       "        text-align: right;\n",
       "    }\n",
       "</style>\n",
       "<table border=\"1\" class=\"dataframe\">\n",
       "  <thead>\n",
       "    <tr style=\"text-align: right;\">\n",
       "      <th></th>\n",
       "      <th>index</th>\n",
       "      <th>OR</th>\n",
       "      <th>OR%</th>\n",
       "      <th>2.5%</th>\n",
       "      <th>97.5%</th>\n",
       "    </tr>\n",
       "  </thead>\n",
       "  <tbody>\n",
       "    <tr>\n",
       "      <th>1</th>\n",
       "      <td>time_fct[T.2]</td>\n",
       "      <td>0.622</td>\n",
       "      <td>-37.757%</td>\n",
       "      <td>0.332</td>\n",
       "      <td>1.167</td>\n",
       "    </tr>\n",
       "    <tr>\n",
       "      <th>2</th>\n",
       "      <td>time_fct[T.3]</td>\n",
       "      <td>0.718</td>\n",
       "      <td>-28.227%</td>\n",
       "      <td>0.295</td>\n",
       "      <td>1.749</td>\n",
       "    </tr>\n",
       "    <tr>\n",
       "      <th>3</th>\n",
       "      <td>time_fct[T.4]</td>\n",
       "      <td>0.000</td>\n",
       "      <td>-100.0%</td>\n",
       "      <td>0.000</td>\n",
       "      <td>inf</td>\n",
       "    </tr>\n",
       "    <tr>\n",
       "      <th>4</th>\n",
       "      <td>time_fct[T.5]</td>\n",
       "      <td>0.000</td>\n",
       "      <td>-100.0%</td>\n",
       "      <td>0.000</td>\n",
       "      <td>inf</td>\n",
       "    </tr>\n",
       "    <tr>\n",
       "      <th>5</th>\n",
       "      <td>time_fct[T.6]</td>\n",
       "      <td>0.349</td>\n",
       "      <td>-65.061%</td>\n",
       "      <td>0.047</td>\n",
       "      <td>2.586</td>\n",
       "    </tr>\n",
       "    <tr>\n",
       "      <th>...</th>\n",
       "      <td>...</td>\n",
       "      <td>...</td>\n",
       "      <td>...</td>\n",
       "      <td>...</td>\n",
       "      <td>...</td>\n",
       "    </tr>\n",
       "    <tr>\n",
       "      <th>72</th>\n",
       "      <td>mobile_os[T.ios]</td>\n",
       "      <td>0.450</td>\n",
       "      <td>-55.001%</td>\n",
       "      <td>0.387</td>\n",
       "      <td>0.523</td>\n",
       "    </tr>\n",
       "    <tr>\n",
       "      <th>73</th>\n",
       "      <td>mobile_os[T.other]</td>\n",
       "      <td>0.719</td>\n",
       "      <td>-28.097%</td>\n",
       "      <td>0.502</td>\n",
       "      <td>1.029</td>\n",
       "    </tr>\n",
       "    <tr>\n",
       "      <th>74</th>\n",
       "      <td>impua</td>\n",
       "      <td>0.979</td>\n",
       "      <td>-2.129%</td>\n",
       "      <td>0.975</td>\n",
       "      <td>0.982</td>\n",
       "    </tr>\n",
       "    <tr>\n",
       "      <th>75</th>\n",
       "      <td>clua</td>\n",
       "      <td>1.295</td>\n",
       "      <td>29.499%</td>\n",
       "      <td>1.156</td>\n",
       "      <td>1.451</td>\n",
       "    </tr>\n",
       "    <tr>\n",
       "      <th>76</th>\n",
       "      <td>ctrua</td>\n",
       "      <td>1.022</td>\n",
       "      <td>2.16%</td>\n",
       "      <td>1.017</td>\n",
       "      <td>1.026</td>\n",
       "    </tr>\n",
       "  </tbody>\n",
       "</table>\n",
       "<p>76 rows × 5 columns</p>\n",
       "</div>"
      ],
      "text/plain": [
       "                 index     OR       OR%   2.5%  97.5%\n",
       "1        time_fct[T.2]  0.622  -37.757%  0.332  1.167\n",
       "2        time_fct[T.3]  0.718  -28.227%  0.295  1.749\n",
       "3        time_fct[T.4]  0.000   -100.0%  0.000    inf\n",
       "4        time_fct[T.5]  0.000   -100.0%  0.000    inf\n",
       "5        time_fct[T.6]  0.349  -65.061%  0.047  2.586\n",
       "..                 ...    ...       ...    ...    ...\n",
       "72    mobile_os[T.ios]  0.450  -55.001%  0.387  0.523\n",
       "73  mobile_os[T.other]  0.719  -28.097%  0.502  1.029\n",
       "74               impua  0.979   -2.129%  0.975  0.982\n",
       "75                clua  1.295   29.499%  1.156  1.451\n",
       "76               ctrua  1.022     2.16%  1.017  1.026\n",
       "\n",
       "[76 rows x 5 columns]"
      ]
     },
     "execution_count": 8,
     "metadata": {},
     "output_type": "execute_result"
    }
   ],
   "source": [
    "odds_ratios = rsm.or_ci(lr_a)\n",
    "odds_ratios"
   ]
  },
  {
   "cell_type": "code",
   "execution_count": 9,
   "metadata": {},
   "outputs": [
    {
     "data": {
      "text/plain": [
       "<AxesSubplot:xlabel='Odds-ratio'>"
      ]
     },
     "execution_count": 9,
     "metadata": {},
     "output_type": "execute_result"
    },
    {
     "data": {
      "image/png": "[encoded data removed]",
      "text/plain": [
       "<Figure size 1200x800 with 1 Axes>"
      ]
     },
     "metadata": {
      "needs_background": "light"
     },
     "output_type": "display_data"
    }
   ],
   "source": [
    "rsm.or_plot(lr_a, excl=['app','time_fct'])"
   ]
  },
  {
   "cell_type": "code",
   "execution_count": 10,
   "metadata": {},
   "outputs": [
    {
     "name": "stdout",
     "output_type": "stream",
     "text": [
      "\n",
      "Pseudo R-squared (McFadden): 0.109\n",
      "Pseudo R-squared (McFadden adjusted): 0.092\n",
      "Log-likelihood: -3946.072, AIC: 8046.145, BIC: 8768.389\n",
      "Chi-squared: 159784.981 df(76), p.value < 0.001 \n",
      "Nr obs: 87,535\n",
      "\n"
     ]
    }
   ],
   "source": [
    "rsm.model_fit(lr_a)"
   ]
  },
  {
   "cell_type": "markdown",
   "metadata": {},
   "source": [
    "c. Estimate a logistic regression model with `click_yes` as the response variable and `imppat`, `clpat`, and\n",
    "`ctrpat` as the only explanatory variable. Make sure to standardize the explanatory variables before estimation (see example code below). What is the interpretation of the standardized odds-ratios for the explanatory variables?"
   ]
  },
  {
   "cell_type": "code",
   "execution_count": 11,
   "metadata": {},
   "outputs": [],
   "source": [
    "# list all numeric variables in the data\n",
    "is_num = [\n",
    "    \"time\",\n",
    "    \"impup\",\n",
    "    \"clup\",\n",
    "    \"ctrup\",\n",
    "    \"impua\",\n",
    "    \"clua\",\n",
    "    \"ctrua\",\n",
    "    \"imput\",\n",
    "    \"clut\",\n",
    "    \"ctrut\",\n",
    "    \"imppat\",\n",
    "    \"clpat\",\n",
    "    \"ctrpat\",\n",
    "]"
   ]
  },
  {
   "cell_type": "code",
   "execution_count": 12,
   "metadata": {},
   "outputs": [],
   "source": [
    "# scale by (x - mean(x)) / (2 * sd(x))\n",
    "scaler = preprocessing.StandardScaler()\n",
    "sf = scaler.fit(tz_gaming.query(\"training == 'train'\")[is_num])\n",
    "sf.scale_ = sf.scale_ * 2\n",
    "tz_std = tz_gaming.copy()\n",
    "tz_std[is_num] = sf.transform(tz_std[is_num])"
   ]
  },
  {
   "cell_type": "code",
   "execution_count": 13,
   "metadata": {},
   "outputs": [],
   "source": [
    "# add your code to estimate the model\n",
    "lr_mod_c= smf.glm(\n",
    "    formula=\"click_yes ~ imppat+clpat+ctrpat\",\n",
    "    family=Binomial(link=logit()),\n",
    "    data=tz_gaming.query(\"training == 'train'\")\n",
    ")"
   ]
  },
  {
   "cell_type": "code",
   "execution_count": 14,
   "metadata": {},
   "outputs": [],
   "source": [
    "lr_c = lr_mod_c.fit()"
   ]
  },
  {
   "cell_type": "code",
   "execution_count": 15,
   "metadata": {},
   "outputs": [
    {
     "data": {
      "text/html": [
       "<table class=\"simpletable\">\n",
       "<caption>Generalized Linear Model Regression Results</caption>\n",
       "<tr>\n",
       "  <th>Dep. Variable:</th>       <td>click_yes</td>    <th>  No. Observations:  </th>  <td> 87535</td> \n",
       "</tr>\n",
       "<tr>\n",
       "  <th>Model:</th>                  <td>GLM</td>       <th>  Df Residuals:      </th>  <td> 87531</td> \n",
       "</tr>\n",
       "<tr>\n",
       "  <th>Model Family:</th>        <td>Binomial</td>     <th>  Df Model:          </th>  <td>     3</td> \n",
       "</tr>\n",
       "<tr>\n",
       "  <th>Link Function:</th>         <td>logit</td>      <th>  Scale:             </th> <td>  1.0000</td>\n",
       "</tr>\n",
       "<tr>\n",
       "  <th>Method:</th>                <td>IRLS</td>       <th>  Log-Likelihood:    </th> <td> -4273.1</td>\n",
       "</tr>\n",
       "<tr>\n",
       "  <th>Date:</th>            <td>Thu, 04 Feb 2021</td> <th>  Deviance:          </th> <td>  8546.2</td>\n",
       "</tr>\n",
       "<tr>\n",
       "  <th>Time:</th>                <td>03:25:10</td>     <th>  Pearson chi2:      </th> <td>8.16e+04</td>\n",
       "</tr>\n",
       "<tr>\n",
       "  <th>No. Iterations:</th>          <td>9</td>        <th>                     </th>     <td> </td>   \n",
       "</tr>\n",
       "<tr>\n",
       "  <th>Covariance Type:</th>     <td>nonrobust</td>    <th>                     </th>     <td> </td>   \n",
       "</tr>\n",
       "</table>\n",
       "<table class=\"simpletable\">\n",
       "<tr>\n",
       "      <td></td>         <th>coef</th>     <th>std err</th>      <th>z</th>      <th>P>|z|</th>  <th>[0.025</th>    <th>0.975]</th>  \n",
       "</tr>\n",
       "<tr>\n",
       "  <th>Intercept</th> <td>   -5.4195</td> <td>    0.073</td> <td>  -74.156</td> <td> 0.000</td> <td>   -5.563</td> <td>   -5.276</td>\n",
       "</tr>\n",
       "<tr>\n",
       "  <th>imppat</th>    <td>-2.065e-05</td> <td>  4.3e-06</td> <td>   -4.802</td> <td> 0.000</td> <td>-2.91e-05</td> <td>-1.22e-05</td>\n",
       "</tr>\n",
       "<tr>\n",
       "  <th>clpat</th>     <td>    0.0018</td> <td>    0.000</td> <td>    5.713</td> <td> 0.000</td> <td>    0.001</td> <td>    0.002</td>\n",
       "</tr>\n",
       "<tr>\n",
       "  <th>ctrpat</th>    <td>    0.4793</td> <td>    0.034</td> <td>   13.933</td> <td> 0.000</td> <td>    0.412</td> <td>    0.547</td>\n",
       "</tr>\n",
       "</table>"
      ],
      "text/plain": [
       "<class 'statsmodels.iolib.summary.Summary'>\n",
       "\"\"\"\n",
       "                 Generalized Linear Model Regression Results                  \n",
       "==============================================================================\n",
       "Dep. Variable:              click_yes   No. Observations:                87535\n",
       "Model:                            GLM   Df Residuals:                    87531\n",
       "Model Family:                Binomial   Df Model:                            3\n",
       "Link Function:                  logit   Scale:                          1.0000\n",
       "Method:                          IRLS   Log-Likelihood:                -4273.1\n",
       "Date:                Thu, 04 Feb 2021   Deviance:                       8546.2\n",
       "Time:                        03:25:10   Pearson chi2:                 8.16e+04\n",
       "No. Iterations:                     9                                         \n",
       "Covariance Type:            nonrobust                                         \n",
       "==============================================================================\n",
       "                 coef    std err          z      P>|z|      [0.025      0.975]\n",
       "------------------------------------------------------------------------------\n",
       "Intercept     -5.4195      0.073    -74.156      0.000      -5.563      -5.276\n",
       "imppat     -2.065e-05    4.3e-06     -4.802      0.000   -2.91e-05   -1.22e-05\n",
       "clpat          0.0018      0.000      5.713      0.000       0.001       0.002\n",
       "ctrpat         0.4793      0.034     13.933      0.000       0.412       0.547\n",
       "==============================================================================\n",
       "\"\"\""
      ]
     },
     "execution_count": 15,
     "metadata": {},
     "output_type": "execute_result"
    }
   ],
   "source": [
    "# disucss the results\n",
    "lr_c.summary()"
   ]
  },
  {
   "cell_type": "code",
   "execution_count": 16,
   "metadata": {},
   "outputs": [
    {
     "data": {
      "text/html": [
       "<div>\n",
       "<style scoped>\n",
       "    .dataframe tbody tr th:only-of-type {\n",
       "        vertical-align: middle;\n",
       "    }\n",
       "\n",
       "    .dataframe tbody tr th {\n",
       "        vertical-align: top;\n",
       "    }\n",
       "\n",
       "    .dataframe thead th {\n",
       "        text-align: right;\n",
       "    }\n",
       "</style>\n",
       "<table border=\"1\" class=\"dataframe\">\n",
       "  <thead>\n",
       "    <tr style=\"text-align: right;\">\n",
       "      <th></th>\n",
       "      <th>index</th>\n",
       "      <th>OR</th>\n",
       "      <th>OR%</th>\n",
       "      <th>2.5%</th>\n",
       "      <th>97.5%</th>\n",
       "    </tr>\n",
       "  </thead>\n",
       "  <tbody>\n",
       "    <tr>\n",
       "      <th>1</th>\n",
       "      <td>imppat</td>\n",
       "      <td>1.000</td>\n",
       "      <td>-0.002%</td>\n",
       "      <td>1.000</td>\n",
       "      <td>1.000</td>\n",
       "    </tr>\n",
       "    <tr>\n",
       "      <th>2</th>\n",
       "      <td>clpat</td>\n",
       "      <td>1.002</td>\n",
       "      <td>0.179%</td>\n",
       "      <td>1.001</td>\n",
       "      <td>1.002</td>\n",
       "    </tr>\n",
       "    <tr>\n",
       "      <th>3</th>\n",
       "      <td>ctrpat</td>\n",
       "      <td>1.615</td>\n",
       "      <td>61.487%</td>\n",
       "      <td>1.510</td>\n",
       "      <td>1.727</td>\n",
       "    </tr>\n",
       "  </tbody>\n",
       "</table>\n",
       "</div>"
      ],
      "text/plain": [
       "    index     OR      OR%   2.5%  97.5%\n",
       "1  imppat  1.000  -0.002%  1.000  1.000\n",
       "2   clpat  1.002   0.179%  1.001  1.002\n",
       "3  ctrpat  1.615  61.487%  1.510  1.727"
      ]
     },
     "execution_count": 16,
     "metadata": {},
     "output_type": "execute_result"
    }
   ],
   "source": [
    "rsm.or_ci(lr_c)"
   ]
  },
  {
   "cell_type": "code",
   "execution_count": 17,
   "metadata": {},
   "outputs": [
    {
     "data": {
      "text/plain": [
       "<AxesSubplot:xlabel='Odds-ratio'>"
      ]
     },
     "execution_count": 17,
     "metadata": {},
     "output_type": "execute_result"
    },
    {
     "data": {
      "image/png": "[encoded data removed]",
      "text/plain": [
       "<Figure size 1200x800 with 1 Axes>"
      ]
     },
     "metadata": {
      "needs_background": "light"
     },
     "output_type": "display_data"
    }
   ],
   "source": [
    "rsm.or_plot(lr_c)"
   ]
  },
  {
   "cell_type": "code",
   "execution_count": 18,
   "metadata": {},
   "outputs": [
    {
     "name": "stdout",
     "output_type": "stream",
     "text": [
      "\n",
      "Pseudo R-squared (McFadden): 0.035\n",
      "Pseudo R-squared (McFadden adjusted): 0.035\n",
      "Log-likelihood: -4273.088, AIC: 8554.176, BIC: 8591.695\n",
      "Chi-squared: 81596.334 df(3), p.value < 0.001 \n",
      "Nr obs: 87,535\n",
      "\n"
     ]
    }
   ],
   "source": [
    "rsm.model_fit(lr_c)"
   ]
  },
  {
   "cell_type": "markdown",
   "metadata": {},
   "source": [
    "d. Some of the variables in the dataset are highly correlated with each other. In particular, imppat\n",
    "and clpat have a positive correlation of 0.97. Discuss the implications of this (very) high level of\n",
    "collinearity and also different approaches to deal with it. What are the implications for the model and\n",
    "the interpretation of the estimated (standardized) coefficients? As part of your answer, discuss the\n",
    "change in the estimated (standardized) odd-ratio for imppat when you remove clpat from the model."
   ]
  },
  {
   "cell_type": "code",
   "execution_count": 19,
   "metadata": {},
   "outputs": [
    {
     "data": {
      "text/html": [
       "<div>\n",
       "<style scoped>\n",
       "    .dataframe tbody tr th:only-of-type {\n",
       "        vertical-align: middle;\n",
       "    }\n",
       "\n",
       "    .dataframe tbody tr th {\n",
       "        vertical-align: top;\n",
       "    }\n",
       "\n",
       "    .dataframe thead th {\n",
       "        text-align: right;\n",
       "    }\n",
       "</style>\n",
       "<table border=\"1\" class=\"dataframe\">\n",
       "  <thead>\n",
       "    <tr style=\"text-align: right;\">\n",
       "      <th></th>\n",
       "      <th>variable</th>\n",
       "      <th>vif</th>\n",
       "      <th>Rsq</th>\n",
       "    </tr>\n",
       "  </thead>\n",
       "  <tbody>\n",
       "    <tr>\n",
       "      <th>0</th>\n",
       "      <td>clpat</td>\n",
       "      <td>26.24</td>\n",
       "      <td>0.96</td>\n",
       "    </tr>\n",
       "    <tr>\n",
       "      <th>1</th>\n",
       "      <td>imppat</td>\n",
       "      <td>23.47</td>\n",
       "      <td>0.96</td>\n",
       "    </tr>\n",
       "    <tr>\n",
       "      <th>2</th>\n",
       "      <td>ctrpat</td>\n",
       "      <td>1.67</td>\n",
       "      <td>0.40</td>\n",
       "    </tr>\n",
       "  </tbody>\n",
       "</table>\n",
       "</div>"
      ],
      "text/plain": [
       "  variable    vif   Rsq\n",
       "0    clpat  26.24  0.96\n",
       "1   imppat  23.47  0.96\n",
       "2   ctrpat   1.67  0.40"
      ]
     },
     "execution_count": 19,
     "metadata": {},
     "output_type": "execute_result"
    }
   ],
   "source": [
    "# insert your answer here\n",
    "# hint: review the help for the `vif` function in the pyrsm function\n",
    "\n",
    "rsm.vif(lr_mod_c,dec=2)"
   ]
  },
  {
   "cell_type": "code",
   "execution_count": 20,
   "metadata": {},
   "outputs": [],
   "source": [
    "new_lr_mod=smf.glm(\n",
    "    formula=\"click_yes ~ imppat+ctrpat\",\n",
    "    family=Binomial(link=logit()),\n",
    "    data=tz_gaming.query(\"training == 'train'\")\n",
    ")"
   ]
  },
  {
   "cell_type": "code",
   "execution_count": 21,
   "metadata": {},
   "outputs": [],
   "source": [
    "new_lr = new_lr_mod.fit()"
   ]
  },
  {
   "cell_type": "code",
   "execution_count": 22,
   "metadata": {},
   "outputs": [
    {
     "data": {
      "text/html": [
       "<table class=\"simpletable\">\n",
       "<caption>Generalized Linear Model Regression Results</caption>\n",
       "<tr>\n",
       "  <th>Dep. Variable:</th>       <td>click_yes</td>    <th>  No. Observations:  </th>  <td> 87535</td> \n",
       "</tr>\n",
       "<tr>\n",
       "  <th>Model:</th>                  <td>GLM</td>       <th>  Df Residuals:      </th>  <td> 87532</td> \n",
       "</tr>\n",
       "<tr>\n",
       "  <th>Model Family:</th>        <td>Binomial</td>     <th>  Df Model:          </th>  <td>     2</td> \n",
       "</tr>\n",
       "<tr>\n",
       "  <th>Link Function:</th>         <td>logit</td>      <th>  Scale:             </th> <td>  1.0000</td>\n",
       "</tr>\n",
       "<tr>\n",
       "  <th>Method:</th>                <td>IRLS</td>       <th>  Log-Likelihood:    </th> <td> -4290.9</td>\n",
       "</tr>\n",
       "<tr>\n",
       "  <th>Date:</th>            <td>Thu, 04 Feb 2021</td> <th>  Deviance:          </th> <td>  8581.8</td>\n",
       "</tr>\n",
       "<tr>\n",
       "  <th>Time:</th>                <td>03:25:18</td>     <th>  Pearson chi2:      </th> <td>8.16e+04</td>\n",
       "</tr>\n",
       "<tr>\n",
       "  <th>No. Iterations:</th>          <td>8</td>        <th>                     </th>     <td> </td>   \n",
       "</tr>\n",
       "<tr>\n",
       "  <th>Covariance Type:</th>     <td>nonrobust</td>    <th>                     </th>     <td> </td>   \n",
       "</tr>\n",
       "</table>\n",
       "<table class=\"simpletable\">\n",
       "<tr>\n",
       "      <td></td>         <th>coef</th>     <th>std err</th>      <th>z</th>      <th>P>|z|</th>  <th>[0.025</th>    <th>0.975]</th>  \n",
       "</tr>\n",
       "<tr>\n",
       "  <th>Intercept</th> <td>   -5.5287</td> <td>    0.068</td> <td>  -80.814</td> <td> 0.000</td> <td>   -5.663</td> <td>   -5.395</td>\n",
       "</tr>\n",
       "<tr>\n",
       "  <th>imppat</th>    <td> 3.545e-06</td> <td> 6.49e-07</td> <td>    5.460</td> <td> 0.000</td> <td> 2.27e-06</td> <td> 4.82e-06</td>\n",
       "</tr>\n",
       "<tr>\n",
       "  <th>ctrpat</th>    <td>    0.5496</td> <td>    0.030</td> <td>   18.422</td> <td> 0.000</td> <td>    0.491</td> <td>    0.608</td>\n",
       "</tr>\n",
       "</table>"
      ],
      "text/plain": [
       "<class 'statsmodels.iolib.summary.Summary'>\n",
       "\"\"\"\n",
       "                 Generalized Linear Model Regression Results                  \n",
       "==============================================================================\n",
       "Dep. Variable:              click_yes   No. Observations:                87535\n",
       "Model:                            GLM   Df Residuals:                    87532\n",
       "Model Family:                Binomial   Df Model:                            2\n",
       "Link Function:                  logit   Scale:                          1.0000\n",
       "Method:                          IRLS   Log-Likelihood:                -4290.9\n",
       "Date:                Thu, 04 Feb 2021   Deviance:                       8581.8\n",
       "Time:                        03:25:18   Pearson chi2:                 8.16e+04\n",
       "No. Iterations:                     8                                         \n",
       "Covariance Type:            nonrobust                                         \n",
       "==============================================================================\n",
       "                 coef    std err          z      P>|z|      [0.025      0.975]\n",
       "------------------------------------------------------------------------------\n",
       "Intercept     -5.5287      0.068    -80.814      0.000      -5.663      -5.395\n",
       "imppat      3.545e-06   6.49e-07      5.460      0.000    2.27e-06    4.82e-06\n",
       "ctrpat         0.5496      0.030     18.422      0.000       0.491       0.608\n",
       "==============================================================================\n",
       "\"\"\""
      ]
     },
     "execution_count": 22,
     "metadata": {},
     "output_type": "execute_result"
    }
   ],
   "source": [
    "new_lr.summary()"
   ]
  },
  {
   "cell_type": "code",
   "execution_count": 23,
   "metadata": {},
   "outputs": [
    {
     "data": {
      "text/html": [
       "<div>\n",
       "<style scoped>\n",
       "    .dataframe tbody tr th:only-of-type {\n",
       "        vertical-align: middle;\n",
       "    }\n",
       "\n",
       "    .dataframe tbody tr th {\n",
       "        vertical-align: top;\n",
       "    }\n",
       "\n",
       "    .dataframe thead th {\n",
       "        text-align: right;\n",
       "    }\n",
       "</style>\n",
       "<table border=\"1\" class=\"dataframe\">\n",
       "  <thead>\n",
       "    <tr style=\"text-align: right;\">\n",
       "      <th></th>\n",
       "      <th>index</th>\n",
       "      <th>OR</th>\n",
       "      <th>OR%</th>\n",
       "      <th>2.5%</th>\n",
       "      <th>97.5%</th>\n",
       "    </tr>\n",
       "  </thead>\n",
       "  <tbody>\n",
       "    <tr>\n",
       "      <th>1</th>\n",
       "      <td>imppat</td>\n",
       "      <td>1.000</td>\n",
       "      <td>0.0%</td>\n",
       "      <td>1.000</td>\n",
       "      <td>1.000</td>\n",
       "    </tr>\n",
       "    <tr>\n",
       "      <th>2</th>\n",
       "      <td>ctrpat</td>\n",
       "      <td>1.733</td>\n",
       "      <td>73.262%</td>\n",
       "      <td>1.634</td>\n",
       "      <td>1.837</td>\n",
       "    </tr>\n",
       "  </tbody>\n",
       "</table>\n",
       "</div>"
      ],
      "text/plain": [
       "    index     OR      OR%   2.5%  97.5%\n",
       "1  imppat  1.000     0.0%  1.000  1.000\n",
       "2  ctrpat  1.733  73.262%  1.634  1.837"
      ]
     },
     "execution_count": 23,
     "metadata": {},
     "output_type": "execute_result"
    }
   ],
   "source": [
    "rsm.or_ci(new_lr)"
   ]
  },
  {
   "cell_type": "code",
   "execution_count": 24,
   "metadata": {},
   "outputs": [
    {
     "data": {
      "text/plain": [
       "<AxesSubplot:xlabel='Odds-ratio'>"
      ]
     },
     "execution_count": 24,
     "metadata": {},
     "output_type": "execute_result"
    },
    {
     "data": {
      "image/png": "[encoded data removed]",
      "text/plain": [
       "<Figure size 1200x800 with 1 Axes>"
      ]
     },
     "metadata": {
      "needs_background": "light"
     },
     "output_type": "display_data"
    }
   ],
   "source": [
    "rsm.or_plot(new_lr)"
   ]
  },
  {
   "cell_type": "code",
   "execution_count": 25,
   "metadata": {},
   "outputs": [
    {
     "name": "stdout",
     "output_type": "stream",
     "text": [
      "\n",
      "Pseudo R-squared (McFadden): 0.031\n",
      "Pseudo R-squared (McFadden adjusted): 0.031\n",
      "Log-likelihood: -4290.903, AIC: 8587.805, BIC: 8615.945\n",
      "Chi-squared: 81561.885 df(2), p.value < 0.001 \n",
      "Nr obs: 87,535\n",
      "\n"
     ]
    }
   ],
   "source": [
    "rsm.model_fit(new_lr)"
   ]
  },
  {
   "cell_type": "markdown",
   "metadata": {},
   "source": [
    "e. Estimate another logistic regression model with `click_yes` as the response variable and `time_fct`,\n",
    "`app`, `imppat`, `clpat`, and `ctrpat` as the explanatory variable. Why are the odds ratios for `imppat`,\n",
    "`clpat`, and `ctrpat` different in the two models? Please be specific and investigate beyond simply\n",
    "stating the statistical problem."
   ]
  },
  {
   "cell_type": "code",
   "execution_count": 26,
   "metadata": {},
   "outputs": [],
   "source": [
    "# insert your answer here\n",
    "lr_mod_e=smf.glm(\n",
    "    formula=\"click_yes ~ time_fct+app+imppat+clpat+ctrpat\",\n",
    "    family=Binomial(link=logit()),\n",
    "    data=tz_gaming.query(\"training == 'train'\")\n",
    ")"
   ]
  },
  {
   "cell_type": "code",
   "execution_count": 27,
   "metadata": {},
   "outputs": [],
   "source": [
    "lr_e = lr_mod_e.fit()"
   ]
  },
  {
   "cell_type": "code",
   "execution_count": 28,
   "metadata": {},
   "outputs": [
    {
     "data": {
      "text/html": [
       "<table class=\"simpletable\">\n",
       "<caption>Generalized Linear Model Regression Results</caption>\n",
       "<tr>\n",
       "  <th>Dep. Variable:</th>       <td>click_yes</td>    <th>  No. Observations:  </th>  <td> 87535</td> \n",
       "</tr>\n",
       "<tr>\n",
       "  <th>Model:</th>                  <td>GLM</td>       <th>  Df Residuals:      </th>  <td> 87460</td> \n",
       "</tr>\n",
       "<tr>\n",
       "  <th>Model Family:</th>        <td>Binomial</td>     <th>  Df Model:          </th>  <td>    74</td> \n",
       "</tr>\n",
       "<tr>\n",
       "  <th>Link Function:</th>         <td>logit</td>      <th>  Scale:             </th> <td>  1.0000</td>\n",
       "</tr>\n",
       "<tr>\n",
       "  <th>Method:</th>                <td>IRLS</td>       <th>  Log-Likelihood:    </th> <td> -4180.6</td>\n",
       "</tr>\n",
       "<tr>\n",
       "  <th>Date:</th>            <td>Thu, 04 Feb 2021</td> <th>  Deviance:          </th> <td>  8361.3</td>\n",
       "</tr>\n",
       "<tr>\n",
       "  <th>Time:</th>                <td>03:25:30</td>     <th>  Pearson chi2:      </th> <td>8.39e+04</td>\n",
       "</tr>\n",
       "<tr>\n",
       "  <th>No. Iterations:</th>         <td>27</td>        <th>                     </th>     <td> </td>   \n",
       "</tr>\n",
       "<tr>\n",
       "  <th>Covariance Type:</th>     <td>nonrobust</td>    <th>                     </th>     <td> </td>   \n",
       "</tr>\n",
       "</table>\n",
       "<table class=\"simpletable\">\n",
       "<tr>\n",
       "         <td></td>           <th>coef</th>     <th>std err</th>      <th>z</th>      <th>P>|z|</th>  <th>[0.025</th>    <th>0.975]</th>  \n",
       "</tr>\n",
       "<tr>\n",
       "  <th>Intercept</th>      <td>   -4.4243</td> <td>    0.284</td> <td>  -15.575</td> <td> 0.000</td> <td>   -4.981</td> <td>   -3.868</td>\n",
       "</tr>\n",
       "<tr>\n",
       "  <th>time_fct[T.2]</th>  <td>   -0.5316</td> <td>    0.323</td> <td>   -1.644</td> <td> 0.100</td> <td>   -1.166</td> <td>    0.102</td>\n",
       "</tr>\n",
       "<tr>\n",
       "  <th>time_fct[T.3]</th>  <td>   -0.3669</td> <td>    0.461</td> <td>   -0.795</td> <td> 0.426</td> <td>   -1.271</td> <td>    0.537</td>\n",
       "</tr>\n",
       "<tr>\n",
       "  <th>time_fct[T.4]</th>  <td>  -23.8342</td> <td> 4.39e+04</td> <td>   -0.001</td> <td> 1.000</td> <td>-8.61e+04</td> <td>  8.6e+04</td>\n",
       "</tr>\n",
       "<tr>\n",
       "  <th>time_fct[T.5]</th>  <td>  -23.8601</td> <td> 5.72e+04</td> <td>   -0.000</td> <td> 1.000</td> <td>-1.12e+05</td> <td> 1.12e+05</td>\n",
       "</tr>\n",
       "<tr>\n",
       "  <th>time_fct[T.6]</th>  <td>   -1.0252</td> <td>    1.027</td> <td>   -0.999</td> <td> 0.318</td> <td>   -3.037</td> <td>    0.987</td>\n",
       "</tr>\n",
       "<tr>\n",
       "  <th>time_fct[T.7]</th>  <td>    0.1986</td> <td>    0.438</td> <td>    0.453</td> <td> 0.650</td> <td>   -0.660</td> <td>    1.057</td>\n",
       "</tr>\n",
       "<tr>\n",
       "  <th>time_fct[T.8]</th>  <td>    0.1270</td> <td>    0.309</td> <td>    0.411</td> <td> 0.681</td> <td>   -0.479</td> <td>    0.733</td>\n",
       "</tr>\n",
       "<tr>\n",
       "  <th>time_fct[T.9]</th>  <td>    0.0606</td> <td>    0.299</td> <td>    0.203</td> <td> 0.839</td> <td>   -0.525</td> <td>    0.646</td>\n",
       "</tr>\n",
       "<tr>\n",
       "  <th>time_fct[T.10]</th> <td>   -0.1703</td> <td>    0.303</td> <td>   -0.561</td> <td> 0.575</td> <td>   -0.765</td> <td>    0.424</td>\n",
       "</tr>\n",
       "<tr>\n",
       "  <th>time_fct[T.11]</th> <td>   -0.4512</td> <td>    0.288</td> <td>   -1.565</td> <td> 0.118</td> <td>   -1.016</td> <td>    0.114</td>\n",
       "</tr>\n",
       "<tr>\n",
       "  <th>time_fct[T.12]</th> <td>   -0.1810</td> <td>    0.292</td> <td>   -0.620</td> <td> 0.535</td> <td>   -0.753</td> <td>    0.391</td>\n",
       "</tr>\n",
       "<tr>\n",
       "  <th>time_fct[T.13]</th> <td>   -0.6261</td> <td>    0.306</td> <td>   -2.047</td> <td> 0.041</td> <td>   -1.226</td> <td>   -0.026</td>\n",
       "</tr>\n",
       "<tr>\n",
       "  <th>time_fct[T.14]</th> <td>   -0.0177</td> <td>    0.257</td> <td>   -0.069</td> <td> 0.945</td> <td>   -0.522</td> <td>    0.487</td>\n",
       "</tr>\n",
       "<tr>\n",
       "  <th>time_fct[T.15]</th> <td>   -0.1738</td> <td>    0.272</td> <td>   -0.639</td> <td> 0.523</td> <td>   -0.707</td> <td>    0.359</td>\n",
       "</tr>\n",
       "<tr>\n",
       "  <th>time_fct[T.16]</th> <td>   -0.1346</td> <td>    0.279</td> <td>   -0.483</td> <td> 0.629</td> <td>   -0.681</td> <td>    0.412</td>\n",
       "</tr>\n",
       "<tr>\n",
       "  <th>time_fct[T.17]</th> <td>   -0.1458</td> <td>    0.296</td> <td>   -0.493</td> <td> 0.622</td> <td>   -0.725</td> <td>    0.434</td>\n",
       "</tr>\n",
       "<tr>\n",
       "  <th>time_fct[T.18]</th> <td>   -0.0595</td> <td>    0.286</td> <td>   -0.208</td> <td> 0.835</td> <td>   -0.619</td> <td>    0.500</td>\n",
       "</tr>\n",
       "<tr>\n",
       "  <th>time_fct[T.19]</th> <td>    0.1637</td> <td>    0.251</td> <td>    0.651</td> <td> 0.515</td> <td>   -0.329</td> <td>    0.656</td>\n",
       "</tr>\n",
       "<tr>\n",
       "  <th>time_fct[T.20]</th> <td>    0.1723</td> <td>    0.247</td> <td>    0.698</td> <td> 0.485</td> <td>   -0.311</td> <td>    0.656</td>\n",
       "</tr>\n",
       "<tr>\n",
       "  <th>time_fct[T.21]</th> <td>   -0.2455</td> <td>    0.261</td> <td>   -0.942</td> <td> 0.346</td> <td>   -0.756</td> <td>    0.265</td>\n",
       "</tr>\n",
       "<tr>\n",
       "  <th>time_fct[T.22]</th> <td>   -0.0691</td> <td>    0.259</td> <td>   -0.267</td> <td> 0.789</td> <td>   -0.576</td> <td>    0.438</td>\n",
       "</tr>\n",
       "<tr>\n",
       "  <th>time_fct[T.23]</th> <td>   -0.0066</td> <td>    0.268</td> <td>   -0.025</td> <td> 0.980</td> <td>   -0.533</td> <td>    0.520</td>\n",
       "</tr>\n",
       "<tr>\n",
       "  <th>time_fct[T.24]</th> <td>    0.1255</td> <td>    0.258</td> <td>    0.486</td> <td> 0.627</td> <td>   -0.380</td> <td>    0.631</td>\n",
       "</tr>\n",
       "<tr>\n",
       "  <th>app[T.app2]</th>    <td>   -1.9965</td> <td>    0.351</td> <td>   -5.681</td> <td> 0.000</td> <td>   -2.685</td> <td>   -1.308</td>\n",
       "</tr>\n",
       "<tr>\n",
       "  <th>app[T.app3]</th>    <td>   -1.6746</td> <td>    1.016</td> <td>   -1.649</td> <td> 0.099</td> <td>   -3.665</td> <td>    0.316</td>\n",
       "</tr>\n",
       "<tr>\n",
       "  <th>app[T.app4]</th>    <td>   -0.7193</td> <td>    0.359</td> <td>   -2.004</td> <td> 0.045</td> <td>   -1.423</td> <td>   -0.016</td>\n",
       "</tr>\n",
       "<tr>\n",
       "  <th>app[T.app5]</th>    <td>   -0.8832</td> <td>    1.011</td> <td>   -0.874</td> <td> 0.382</td> <td>   -2.864</td> <td>    1.098</td>\n",
       "</tr>\n",
       "<tr>\n",
       "  <th>app[T.app6]</th>    <td>    0.0073</td> <td>    0.216</td> <td>    0.034</td> <td> 0.973</td> <td>   -0.416</td> <td>    0.431</td>\n",
       "</tr>\n",
       "<tr>\n",
       "  <th>app[T.app7]</th>    <td>   -0.3460</td> <td>    1.019</td> <td>   -0.340</td> <td> 0.734</td> <td>   -2.343</td> <td>    1.651</td>\n",
       "</tr>\n",
       "<tr>\n",
       "  <th>app[T.app8]</th>    <td>  -24.1102</td> <td> 7.27e+04</td> <td>   -0.000</td> <td> 1.000</td> <td>-1.43e+05</td> <td> 1.42e+05</td>\n",
       "</tr>\n",
       "<tr>\n",
       "  <th>app[T.app9]</th>    <td>   -0.0672</td> <td>    0.271</td> <td>   -0.248</td> <td> 0.804</td> <td>   -0.599</td> <td>    0.464</td>\n",
       "</tr>\n",
       "<tr>\n",
       "  <th>app[T.app10]</th>   <td>  -24.0211</td> <td> 7.56e+04</td> <td>   -0.000</td> <td> 1.000</td> <td>-1.48e+05</td> <td> 1.48e+05</td>\n",
       "</tr>\n",
       "<tr>\n",
       "  <th>app[T.app11]</th>   <td>    0.3115</td> <td>    0.752</td> <td>    0.414</td> <td> 0.679</td> <td>   -1.163</td> <td>    1.786</td>\n",
       "</tr>\n",
       "<tr>\n",
       "  <th>app[T.app12]</th>   <td>   -0.5532</td> <td>    0.274</td> <td>   -2.022</td> <td> 0.043</td> <td>   -1.089</td> <td>   -0.017</td>\n",
       "</tr>\n",
       "<tr>\n",
       "  <th>app[T.app13]</th>   <td>    1.0260</td> <td>    0.504</td> <td>    2.037</td> <td> 0.042</td> <td>    0.039</td> <td>    2.013</td>\n",
       "</tr>\n",
       "<tr>\n",
       "  <th>app[T.app14]</th>   <td>   -1.4019</td> <td>    0.479</td> <td>   -2.927</td> <td> 0.003</td> <td>   -2.341</td> <td>   -0.463</td>\n",
       "</tr>\n",
       "<tr>\n",
       "  <th>app[T.app15]</th>   <td>   -0.2577</td> <td>    0.723</td> <td>   -0.357</td> <td> 0.721</td> <td>   -1.674</td> <td>    1.159</td>\n",
       "</tr>\n",
       "<tr>\n",
       "  <th>app[T.app16]</th>   <td>   -0.9647</td> <td>    0.733</td> <td>   -1.316</td> <td> 0.188</td> <td>   -2.401</td> <td>    0.472</td>\n",
       "</tr>\n",
       "<tr>\n",
       "  <th>app[T.app17]</th>   <td>    0.4071</td> <td>    0.727</td> <td>    0.560</td> <td> 0.576</td> <td>   -1.018</td> <td>    1.832</td>\n",
       "</tr>\n",
       "<tr>\n",
       "  <th>app[T.app18]</th>   <td>   -2.2257</td> <td>    1.016</td> <td>   -2.190</td> <td> 0.029</td> <td>   -4.217</td> <td>   -0.234</td>\n",
       "</tr>\n",
       "<tr>\n",
       "  <th>app[T.app19]</th>   <td>  -24.0459</td> <td> 9.38e+04</td> <td>   -0.000</td> <td> 1.000</td> <td>-1.84e+05</td> <td> 1.84e+05</td>\n",
       "</tr>\n",
       "<tr>\n",
       "  <th>app[T.app20]</th>   <td>  -24.1446</td> <td> 7.34e+04</td> <td>   -0.000</td> <td> 1.000</td> <td>-1.44e+05</td> <td> 1.44e+05</td>\n",
       "</tr>\n",
       "<tr>\n",
       "  <th>app[T.app21]</th>   <td>   -0.7443</td> <td>    0.416</td> <td>   -1.789</td> <td> 0.074</td> <td>   -1.560</td> <td>    0.071</td>\n",
       "</tr>\n",
       "<tr>\n",
       "  <th>app[T.app22]</th>   <td>   -0.6605</td> <td>    1.019</td> <td>   -0.648</td> <td> 0.517</td> <td>   -2.658</td> <td>    1.337</td>\n",
       "</tr>\n",
       "<tr>\n",
       "  <th>app[T.app23]</th>   <td>    1.2667</td> <td>    0.419</td> <td>    3.023</td> <td> 0.003</td> <td>    0.445</td> <td>    2.088</td>\n",
       "</tr>\n",
       "<tr>\n",
       "  <th>app[T.app24]</th>   <td>    0.8802</td> <td>    0.363</td> <td>    2.421</td> <td> 0.015</td> <td>    0.168</td> <td>    1.593</td>\n",
       "</tr>\n",
       "<tr>\n",
       "  <th>app[T.app25]</th>   <td>    0.4516</td> <td>    0.612</td> <td>    0.738</td> <td> 0.460</td> <td>   -0.747</td> <td>    1.650</td>\n",
       "</tr>\n",
       "<tr>\n",
       "  <th>app[T.app26]</th>   <td>  -24.0730</td> <td> 6.33e+04</td> <td>   -0.000</td> <td> 1.000</td> <td>-1.24e+05</td> <td> 1.24e+05</td>\n",
       "</tr>\n",
       "<tr>\n",
       "  <th>app[T.app27]</th>   <td>   -1.2302</td> <td>    0.731</td> <td>   -1.683</td> <td> 0.092</td> <td>   -2.663</td> <td>    0.203</td>\n",
       "</tr>\n",
       "<tr>\n",
       "  <th>app[T.app28]</th>   <td>   -1.1444</td> <td>    0.603</td> <td>   -1.897</td> <td> 0.058</td> <td>   -2.327</td> <td>    0.038</td>\n",
       "</tr>\n",
       "<tr>\n",
       "  <th>app[T.app29]</th>   <td>    0.9492</td> <td>    0.379</td> <td>    2.502</td> <td> 0.012</td> <td>    0.206</td> <td>    1.693</td>\n",
       "</tr>\n",
       "<tr>\n",
       "  <th>app[T.app30]</th>   <td>  -24.0804</td> <td> 8.71e+04</td> <td>   -0.000</td> <td> 1.000</td> <td>-1.71e+05</td> <td> 1.71e+05</td>\n",
       "</tr>\n",
       "<tr>\n",
       "  <th>app[T.app31]</th>   <td>   -1.8076</td> <td>    0.735</td> <td>   -2.460</td> <td> 0.014</td> <td>   -3.248</td> <td>   -0.367</td>\n",
       "</tr>\n",
       "<tr>\n",
       "  <th>app[T.app32]</th>   <td>  -24.0440</td> <td>  5.6e+04</td> <td>   -0.000</td> <td> 1.000</td> <td> -1.1e+05</td> <td>  1.1e+05</td>\n",
       "</tr>\n",
       "<tr>\n",
       "  <th>app[T.app33]</th>   <td>   -0.6468</td> <td>    0.376</td> <td>   -1.720</td> <td> 0.086</td> <td>   -1.384</td> <td>    0.090</td>\n",
       "</tr>\n",
       "<tr>\n",
       "  <th>app[T.app34]</th>   <td>  -24.0137</td> <td> 5.59e+04</td> <td>   -0.000</td> <td> 1.000</td> <td> -1.1e+05</td> <td>  1.1e+05</td>\n",
       "</tr>\n",
       "<tr>\n",
       "  <th>app[T.app35]</th>   <td>   -1.0301</td> <td>    1.019</td> <td>   -1.011</td> <td> 0.312</td> <td>   -3.028</td> <td>    0.968</td>\n",
       "</tr>\n",
       "<tr>\n",
       "  <th>app[T.app36]</th>   <td>  -24.0014</td> <td> 7.88e+04</td> <td>   -0.000</td> <td> 1.000</td> <td>-1.55e+05</td> <td> 1.55e+05</td>\n",
       "</tr>\n",
       "<tr>\n",
       "  <th>app[T.app37]</th>   <td>   -0.2997</td> <td>    0.732</td> <td>   -0.410</td> <td> 0.682</td> <td>   -1.734</td> <td>    1.134</td>\n",
       "</tr>\n",
       "<tr>\n",
       "  <th>app[T.app38]</th>   <td>  -24.0363</td> <td> 5.53e+04</td> <td>   -0.000</td> <td> 1.000</td> <td>-1.08e+05</td> <td> 1.08e+05</td>\n",
       "</tr>\n",
       "<tr>\n",
       "  <th>app[T.app39]</th>   <td>    0.8539</td> <td>    0.449</td> <td>    1.904</td> <td> 0.057</td> <td>   -0.025</td> <td>    1.733</td>\n",
       "</tr>\n",
       "<tr>\n",
       "  <th>app[T.app40]</th>   <td>    0.4856</td> <td>    0.530</td> <td>    0.915</td> <td> 0.360</td> <td>   -0.554</td> <td>    1.525</td>\n",
       "</tr>\n",
       "<tr>\n",
       "  <th>app[T.app41]</th>   <td>   -0.2038</td> <td>    0.725</td> <td>   -0.281</td> <td> 0.779</td> <td>   -1.626</td> <td>    1.218</td>\n",
       "</tr>\n",
       "<tr>\n",
       "  <th>app[T.app42]</th>   <td>    1.0677</td> <td>    0.452</td> <td>    2.363</td> <td> 0.018</td> <td>    0.182</td> <td>    1.953</td>\n",
       "</tr>\n",
       "<tr>\n",
       "  <th>app[T.app43]</th>   <td>  -24.1086</td> <td> 7.59e+04</td> <td>   -0.000</td> <td> 1.000</td> <td>-1.49e+05</td> <td> 1.49e+05</td>\n",
       "</tr>\n",
       "<tr>\n",
       "  <th>app[T.app44]</th>   <td>  -24.0468</td> <td> 4.66e+04</td> <td>   -0.001</td> <td> 1.000</td> <td>-9.13e+04</td> <td> 9.13e+04</td>\n",
       "</tr>\n",
       "<tr>\n",
       "  <th>app[T.app45]</th>   <td>    0.6522</td> <td>    0.604</td> <td>    1.079</td> <td> 0.281</td> <td>   -0.532</td> <td>    1.837</td>\n",
       "</tr>\n",
       "<tr>\n",
       "  <th>app[T.app46]</th>   <td>   -0.7630</td> <td>    1.020</td> <td>   -0.748</td> <td> 0.455</td> <td>   -2.763</td> <td>    1.237</td>\n",
       "</tr>\n",
       "<tr>\n",
       "  <th>app[T.app47]</th>   <td>   -0.9019</td> <td>    1.012</td> <td>   -0.891</td> <td> 0.373</td> <td>   -2.885</td> <td>    1.082</td>\n",
       "</tr>\n",
       "<tr>\n",
       "  <th>app[T.app48]</th>   <td>  -24.0454</td> <td> 1.06e+05</td> <td>   -0.000</td> <td> 1.000</td> <td>-2.08e+05</td> <td> 2.08e+05</td>\n",
       "</tr>\n",
       "<tr>\n",
       "  <th>app[T.app49]</th>   <td>   -1.3492</td> <td>    1.019</td> <td>   -1.324</td> <td> 0.185</td> <td>   -3.346</td> <td>    0.648</td>\n",
       "</tr>\n",
       "<tr>\n",
       "  <th>imppat</th>         <td>-1.035e-05</td> <td> 9.15e-06</td> <td>   -1.131</td> <td> 0.258</td> <td>-2.83e-05</td> <td> 7.58e-06</td>\n",
       "</tr>\n",
       "<tr>\n",
       "  <th>clpat</th>          <td>    0.0008</td> <td>    0.001</td> <td>    1.135</td> <td> 0.256</td> <td>   -0.001</td> <td>    0.002</td>\n",
       "</tr>\n",
       "<tr>\n",
       "  <th>ctrpat</th>         <td>    0.0745</td> <td>    0.117</td> <td>    0.637</td> <td> 0.524</td> <td>   -0.155</td> <td>    0.304</td>\n",
       "</tr>\n",
       "</table>"
      ],
      "text/plain": [
       "<class 'statsmodels.iolib.summary.Summary'>\n",
       "\"\"\"\n",
       "                 Generalized Linear Model Regression Results                  \n",
       "==============================================================================\n",
       "Dep. Variable:              click_yes   No. Observations:                87535\n",
       "Model:                            GLM   Df Residuals:                    87460\n",
       "Model Family:                Binomial   Df Model:                           74\n",
       "Link Function:                  logit   Scale:                          1.0000\n",
       "Method:                          IRLS   Log-Likelihood:                -4180.6\n",
       "Date:                Thu, 04 Feb 2021   Deviance:                       8361.3\n",
       "Time:                        03:25:30   Pearson chi2:                 8.39e+04\n",
       "No. Iterations:                    27                                         \n",
       "Covariance Type:            nonrobust                                         \n",
       "==================================================================================\n",
       "                     coef    std err          z      P>|z|      [0.025      0.975]\n",
       "----------------------------------------------------------------------------------\n",
       "Intercept         -4.4243      0.284    -15.575      0.000      -4.981      -3.868\n",
       "time_fct[T.2]     -0.5316      0.323     -1.644      0.100      -1.166       0.102\n",
       "time_fct[T.3]     -0.3669      0.461     -0.795      0.426      -1.271       0.537\n",
       "time_fct[T.4]    -23.8342   4.39e+04     -0.001      1.000   -8.61e+04     8.6e+04\n",
       "time_fct[T.5]    -23.8601   5.72e+04     -0.000      1.000   -1.12e+05    1.12e+05\n",
       "time_fct[T.6]     -1.0252      1.027     -0.999      0.318      -3.037       0.987\n",
       "time_fct[T.7]      0.1986      0.438      0.453      0.650      -0.660       1.057\n",
       "time_fct[T.8]      0.1270      0.309      0.411      0.681      -0.479       0.733\n",
       "time_fct[T.9]      0.0606      0.299      0.203      0.839      -0.525       0.646\n",
       "time_fct[T.10]    -0.1703      0.303     -0.561      0.575      -0.765       0.424\n",
       "time_fct[T.11]    -0.4512      0.288     -1.565      0.118      -1.016       0.114\n",
       "time_fct[T.12]    -0.1810      0.292     -0.620      0.535      -0.753       0.391\n",
       "time_fct[T.13]    -0.6261      0.306     -2.047      0.041      -1.226      -0.026\n",
       "time_fct[T.14]    -0.0177      0.257     -0.069      0.945      -0.522       0.487\n",
       "time_fct[T.15]    -0.1738      0.272     -0.639      0.523      -0.707       0.359\n",
       "time_fct[T.16]    -0.1346      0.279     -0.483      0.629      -0.681       0.412\n",
       "time_fct[T.17]    -0.1458      0.296     -0.493      0.622      -0.725       0.434\n",
       "time_fct[T.18]    -0.0595      0.286     -0.208      0.835      -0.619       0.500\n",
       "time_fct[T.19]     0.1637      0.251      0.651      0.515      -0.329       0.656\n",
       "time_fct[T.20]     0.1723      0.247      0.698      0.485      -0.311       0.656\n",
       "time_fct[T.21]    -0.2455      0.261     -0.942      0.346      -0.756       0.265\n",
       "time_fct[T.22]    -0.0691      0.259     -0.267      0.789      -0.576       0.438\n",
       "time_fct[T.23]    -0.0066      0.268     -0.025      0.980      -0.533       0.520\n",
       "time_fct[T.24]     0.1255      0.258      0.486      0.627      -0.380       0.631\n",
       "app[T.app2]       -1.9965      0.351     -5.681      0.000      -2.685      -1.308\n",
       "app[T.app3]       -1.6746      1.016     -1.649      0.099      -3.665       0.316\n",
       "app[T.app4]       -0.7193      0.359     -2.004      0.045      -1.423      -0.016\n",
       "app[T.app5]       -0.8832      1.011     -0.874      0.382      -2.864       1.098\n",
       "app[T.app6]        0.0073      0.216      0.034      0.973      -0.416       0.431\n",
       "app[T.app7]       -0.3460      1.019     -0.340      0.734      -2.343       1.651\n",
       "app[T.app8]      -24.1102   7.27e+04     -0.000      1.000   -1.43e+05    1.42e+05\n",
       "app[T.app9]       -0.0672      0.271     -0.248      0.804      -0.599       0.464\n",
       "app[T.app10]     -24.0211   7.56e+04     -0.000      1.000   -1.48e+05    1.48e+05\n",
       "app[T.app11]       0.3115      0.752      0.414      0.679      -1.163       1.786\n",
       "app[T.app12]      -0.5532      0.274     -2.022      0.043      -1.089      -0.017\n",
       "app[T.app13]       1.0260      0.504      2.037      0.042       0.039       2.013\n",
       "app[T.app14]      -1.4019      0.479     -2.927      0.003      -2.341      -0.463\n",
       "app[T.app15]      -0.2577      0.723     -0.357      0.721      -1.674       1.159\n",
       "app[T.app16]      -0.9647      0.733     -1.316      0.188      -2.401       0.472\n",
       "app[T.app17]       0.4071      0.727      0.560      0.576      -1.018       1.832\n",
       "app[T.app18]      -2.2257      1.016     -2.190      0.029      -4.217      -0.234\n",
       "app[T.app19]     -24.0459   9.38e+04     -0.000      1.000   -1.84e+05    1.84e+05\n",
       "app[T.app20]     -24.1446   7.34e+04     -0.000      1.000   -1.44e+05    1.44e+05\n",
       "app[T.app21]      -0.7443      0.416     -1.789      0.074      -1.560       0.071\n",
       "app[T.app22]      -0.6605      1.019     -0.648      0.517      -2.658       1.337\n",
       "app[T.app23]       1.2667      0.419      3.023      0.003       0.445       2.088\n",
       "app[T.app24]       0.8802      0.363      2.421      0.015       0.168       1.593\n",
       "app[T.app25]       0.4516      0.612      0.738      0.460      -0.747       1.650\n",
       "app[T.app26]     -24.0730   6.33e+04     -0.000      1.000   -1.24e+05    1.24e+05\n",
       "app[T.app27]      -1.2302      0.731     -1.683      0.092      -2.663       0.203\n",
       "app[T.app28]      -1.1444      0.603     -1.897      0.058      -2.327       0.038\n",
       "app[T.app29]       0.9492      0.379      2.502      0.012       0.206       1.693\n",
       "app[T.app30]     -24.0804   8.71e+04     -0.000      1.000   -1.71e+05    1.71e+05\n",
       "app[T.app31]      -1.8076      0.735     -2.460      0.014      -3.248      -0.367\n",
       "app[T.app32]     -24.0440    5.6e+04     -0.000      1.000    -1.1e+05     1.1e+05\n",
       "app[T.app33]      -0.6468      0.376     -1.720      0.086      -1.384       0.090\n",
       "app[T.app34]     -24.0137   5.59e+04     -0.000      1.000    -1.1e+05     1.1e+05\n",
       "app[T.app35]      -1.0301      1.019     -1.011      0.312      -3.028       0.968\n",
       "app[T.app36]     -24.0014   7.88e+04     -0.000      1.000   -1.55e+05    1.55e+05\n",
       "app[T.app37]      -0.2997      0.732     -0.410      0.682      -1.734       1.134\n",
       "app[T.app38]     -24.0363   5.53e+04     -0.000      1.000   -1.08e+05    1.08e+05\n",
       "app[T.app39]       0.8539      0.449      1.904      0.057      -0.025       1.733\n",
       "app[T.app40]       0.4856      0.530      0.915      0.360      -0.554       1.525\n",
       "app[T.app41]      -0.2038      0.725     -0.281      0.779      -1.626       1.218\n",
       "app[T.app42]       1.0677      0.452      2.363      0.018       0.182       1.953\n",
       "app[T.app43]     -24.1086   7.59e+04     -0.000      1.000   -1.49e+05    1.49e+05\n",
       "app[T.app44]     -24.0468   4.66e+04     -0.001      1.000   -9.13e+04    9.13e+04\n",
       "app[T.app45]       0.6522      0.604      1.079      0.281      -0.532       1.837\n",
       "app[T.app46]      -0.7630      1.020     -0.748      0.455      -2.763       1.237\n",
       "app[T.app47]      -0.9019      1.012     -0.891      0.373      -2.885       1.082\n",
       "app[T.app48]     -24.0454   1.06e+05     -0.000      1.000   -2.08e+05    2.08e+05\n",
       "app[T.app49]      -1.3492      1.019     -1.324      0.185      -3.346       0.648\n",
       "imppat         -1.035e-05   9.15e-06     -1.131      0.258   -2.83e-05    7.58e-06\n",
       "clpat              0.0008      0.001      1.135      0.256      -0.001       0.002\n",
       "ctrpat             0.0745      0.117      0.637      0.524      -0.155       0.304\n",
       "==================================================================================\n",
       "\"\"\""
      ]
     },
     "execution_count": 28,
     "metadata": {},
     "output_type": "execute_result"
    }
   ],
   "source": [
    "lr_e.summary()"
   ]
  },
  {
   "cell_type": "code",
   "execution_count": 29,
   "metadata": {},
   "outputs": [
    {
     "data": {
      "text/html": [
       "<div>\n",
       "<style scoped>\n",
       "    .dataframe tbody tr th:only-of-type {\n",
       "        vertical-align: middle;\n",
       "    }\n",
       "\n",
       "    .dataframe tbody tr th {\n",
       "        vertical-align: top;\n",
       "    }\n",
       "\n",
       "    .dataframe thead th {\n",
       "        text-align: right;\n",
       "    }\n",
       "</style>\n",
       "<table border=\"1\" class=\"dataframe\">\n",
       "  <thead>\n",
       "    <tr style=\"text-align: right;\">\n",
       "      <th></th>\n",
       "      <th>index</th>\n",
       "      <th>OR</th>\n",
       "      <th>OR%</th>\n",
       "      <th>2.5%</th>\n",
       "      <th>97.5%</th>\n",
       "    </tr>\n",
       "  </thead>\n",
       "  <tbody>\n",
       "    <tr>\n",
       "      <th>1</th>\n",
       "      <td>time_fct[T.2]</td>\n",
       "      <td>0.588</td>\n",
       "      <td>-41.235%</td>\n",
       "      <td>0.312</td>\n",
       "      <td>1.108</td>\n",
       "    </tr>\n",
       "    <tr>\n",
       "      <th>2</th>\n",
       "      <td>time_fct[T.3]</td>\n",
       "      <td>0.693</td>\n",
       "      <td>-30.714%</td>\n",
       "      <td>0.280</td>\n",
       "      <td>1.711</td>\n",
       "    </tr>\n",
       "    <tr>\n",
       "      <th>3</th>\n",
       "      <td>time_fct[T.4]</td>\n",
       "      <td>0.000</td>\n",
       "      <td>-100.0%</td>\n",
       "      <td>0.000</td>\n",
       "      <td>inf</td>\n",
       "    </tr>\n",
       "    <tr>\n",
       "      <th>4</th>\n",
       "      <td>time_fct[T.5]</td>\n",
       "      <td>0.000</td>\n",
       "      <td>-100.0%</td>\n",
       "      <td>0.000</td>\n",
       "      <td>inf</td>\n",
       "    </tr>\n",
       "    <tr>\n",
       "      <th>5</th>\n",
       "      <td>time_fct[T.6]</td>\n",
       "      <td>0.359</td>\n",
       "      <td>-64.129%</td>\n",
       "      <td>0.048</td>\n",
       "      <td>2.683</td>\n",
       "    </tr>\n",
       "    <tr>\n",
       "      <th>...</th>\n",
       "      <td>...</td>\n",
       "      <td>...</td>\n",
       "      <td>...</td>\n",
       "      <td>...</td>\n",
       "      <td>...</td>\n",
       "    </tr>\n",
       "    <tr>\n",
       "      <th>70</th>\n",
       "      <td>app[T.app48]</td>\n",
       "      <td>0.000</td>\n",
       "      <td>-100.0%</td>\n",
       "      <td>0.000</td>\n",
       "      <td>inf</td>\n",
       "    </tr>\n",
       "    <tr>\n",
       "      <th>71</th>\n",
       "      <td>app[T.app49]</td>\n",
       "      <td>0.259</td>\n",
       "      <td>-74.054%</td>\n",
       "      <td>0.035</td>\n",
       "      <td>1.911</td>\n",
       "    </tr>\n",
       "    <tr>\n",
       "      <th>72</th>\n",
       "      <td>imppat</td>\n",
       "      <td>1.000</td>\n",
       "      <td>-0.001%</td>\n",
       "      <td>1.000</td>\n",
       "      <td>1.000</td>\n",
       "    </tr>\n",
       "    <tr>\n",
       "      <th>73</th>\n",
       "      <td>clpat</td>\n",
       "      <td>1.001</td>\n",
       "      <td>0.078%</td>\n",
       "      <td>0.999</td>\n",
       "      <td>1.002</td>\n",
       "    </tr>\n",
       "    <tr>\n",
       "      <th>74</th>\n",
       "      <td>ctrpat</td>\n",
       "      <td>1.077</td>\n",
       "      <td>7.737%</td>\n",
       "      <td>0.857</td>\n",
       "      <td>1.355</td>\n",
       "    </tr>\n",
       "  </tbody>\n",
       "</table>\n",
       "<p>74 rows × 5 columns</p>\n",
       "</div>"
      ],
      "text/plain": [
       "            index     OR       OR%   2.5%  97.5%\n",
       "1   time_fct[T.2]  0.588  -41.235%  0.312  1.108\n",
       "2   time_fct[T.3]  0.693  -30.714%  0.280  1.711\n",
       "3   time_fct[T.4]  0.000   -100.0%  0.000    inf\n",
       "4   time_fct[T.5]  0.000   -100.0%  0.000    inf\n",
       "5   time_fct[T.6]  0.359  -64.129%  0.048  2.683\n",
       "..            ...    ...       ...    ...    ...\n",
       "70   app[T.app48]  0.000   -100.0%  0.000    inf\n",
       "71   app[T.app49]  0.259  -74.054%  0.035  1.911\n",
       "72         imppat  1.000   -0.001%  1.000  1.000\n",
       "73          clpat  1.001    0.078%  0.999  1.002\n",
       "74         ctrpat  1.077    7.737%  0.857  1.355\n",
       "\n",
       "[74 rows x 5 columns]"
      ]
     },
     "execution_count": 29,
     "metadata": {},
     "output_type": "execute_result"
    }
   ],
   "source": [
    "rsm.or_ci(lr_e)"
   ]
  },
  {
   "cell_type": "code",
   "execution_count": 30,
   "metadata": {},
   "outputs": [
    {
     "data": {
      "text/plain": [
       "<AxesSubplot:xlabel='Odds-ratio'>"
      ]
     },
     "execution_count": 30,
     "metadata": {},
     "output_type": "execute_result"
    },
    {
     "data": {
      "image/png": "[encoded data removed]",
      "text/plain": [
       "<Figure size 1200x800 with 1 Axes>"
      ]
     },
     "metadata": {
      "needs_background": "light"
     },
     "output_type": "display_data"
    }
   ],
   "source": [
    "rsm.or_plot(lr_e, excl=['time_fct','app'])"
   ]
  },
  {
   "cell_type": "code",
   "execution_count": 31,
   "metadata": {},
   "outputs": [
    {
     "name": "stdout",
     "output_type": "stream",
     "text": [
      "\n",
      "Pseudo R-squared (McFadden): 0.056\n",
      "Pseudo R-squared (McFadden adjusted): 0.04\n",
      "Log-likelihood: -4180.646, AIC: 8511.292, BIC: 9214.776\n",
      "Chi-squared: 83860.128 df(74), p.value < 0.001 \n",
      "Nr obs: 87,535\n",
      "\n"
     ]
    }
   ],
   "source": [
    "rsm.model_fit(lr_e)"
   ]
  },
  {
   "cell_type": "markdown",
   "metadata": {},
   "source": [
    "## Part II: Decile Analysis of Logistic Regression Results\n",
    "### a. Create deciles"
   ]
  },
  {
   "cell_type": "markdown",
   "metadata": {},
   "source": [
    "a. Assign each impression to a decile based on the predicted probability of click through. Create a new\n",
    "variable dec_logit that captures this information. Note: The first decile should have the highest\n",
    "average click-through rate. If not, make sure to “reverse” the decile numbers (i.e., 10 becomes 1, 9\n",
    "becomes 2, etc.). Please use the xtile function from the pyrsm package to create the deciles"
   ]
  },
  {
   "cell_type": "code",
   "execution_count": 32,
   "metadata": {},
   "outputs": [
    {
     "name": "stderr",
     "output_type": "stream",
     "text": [
      "<ipython-input-32-8041e5552470>:4: SettingWithCopyWarning: \n",
      "A value is trying to be set on a copy of a slice from a DataFrame.\n",
      "Try using .loc[row_indexer,col_indexer] = value instead\n",
      "\n",
      "See the caveats in the documentation: https://pandas.pydata.org/pandas-docs/stable/user_guide/indexing.html#returning-a-view-versus-a-copy\n",
      "  tz_gaming_test['click_logit'] = lr_a.predict(tz_gaming_test)\n"
     ]
    }
   ],
   "source": [
    "# insert your answer here\n",
    "tz_gaming_test = tz_gaming.query('training == \"test\"')\n",
    "\n",
    "tz_gaming_test['click_logit'] = lr_a.predict(tz_gaming_test)"
   ]
  },
  {
   "cell_type": "code",
   "execution_count": 33,
   "metadata": {},
   "outputs": [
    {
     "name": "stderr",
     "output_type": "stream",
     "text": [
      "<ipython-input-33-d168d09e3644>:1: SettingWithCopyWarning: \n",
      "A value is trying to be set on a copy of a slice from a DataFrame.\n",
      "Try using .loc[row_indexer,col_indexer] = value instead\n",
      "\n",
      "See the caveats in the documentation: https://pandas.pydata.org/pandas-docs/stable/user_guide/indexing.html#returning-a-view-versus-a-copy\n",
      "  tz_gaming_test['dec_logit'] = rsm.xtile(tz_gaming_test['click_logit'],10, rev=True)\n"
     ]
    }
   ],
   "source": [
    "tz_gaming_test['dec_logit'] = rsm.xtile(tz_gaming_test['click_logit'],10, rev=True)"
   ]
  },
  {
   "cell_type": "markdown",
   "metadata": {},
   "source": [
    "b. Create a bar chart of click-through rates per decile (i.e., use dec_logit as the x-variable and ‘click_yes\n",
    "as the y-variable). Note that the “click through rate” is not the same as the “predicted probability of\n",
    "click.” The click through rate captures the proportion of impressions in a given group (e.g., in a decile)\n",
    "that actually resulted in a click."
   ]
  },
  {
   "cell_type": "code",
   "execution_count": 34,
   "metadata": {},
   "outputs": [
    {
     "data": {
      "text/plain": [
       "[Text(0, 0.5, 'Click-through rate'), Text(0.5, 0, 'Deciles')]"
      ]
     },
     "execution_count": 34,
     "metadata": {},
     "output_type": "execute_result"
    },
    {
     "data": {
      "image/png": "[encoded data removed]",
      "text/plain": [
       "<Figure size 1200x800 with 1 Axes>"
      ]
     },
     "metadata": {
      "needs_background": "light"
     },
     "output_type": "display_data"
    }
   ],
   "source": [
    "# insert your answer here\n",
    "\n",
    "fig = sns.barplot(x='dec_logit',y='click_yes',data=tz_gaming_test)\n",
    "fig.set(ylabel='Click-through rate', xlabel='Deciles')"
   ]
  },
  {
   "cell_type": "markdown",
   "metadata": {},
   "source": [
    "c. Report the number of impressions, the number of clicks, and the click-through rate for the TZ ad per\n",
    "decile and save this information to a dataframe. Use the name dec_df_logit for the new data frame."
   ]
  },
  {
   "cell_type": "code",
   "execution_count": 35,
   "metadata": {},
   "outputs": [],
   "source": [
    "# insert your answer here\n",
    "\n",
    "dec_df_logit = tz_gaming_test.groupby('dec_logit')['click_yes'].agg(['count','sum','mean']).reset_index()"
   ]
  },
  {
   "cell_type": "code",
   "execution_count": 36,
   "metadata": {},
   "outputs": [],
   "source": [
    "dec_df_logit.columns = ['dec_logit','number of impressions','number of clicks','click-through rate']"
   ]
  },
  {
   "cell_type": "markdown",
   "metadata": {},
   "source": [
    "## Part III: Lift and Gains"
   ]
  },
  {
   "cell_type": "markdown",
   "metadata": {},
   "source": [
    "a. Use the dataframe you created in II.c above to generate a table with lift and cumulative lift numbers\n",
    "for each decile"
   ]
  },
  {
   "cell_type": "code",
   "execution_count": 37,
   "metadata": {},
   "outputs": [],
   "source": [
    "# insert your answer here\n",
    "overall_ctr = sum(dec_df_logit['number of clicks'])/sum(dec_df_logit['number of impressions'])\n",
    "tot_impressions = sum(dec_df_logit['number of impressions'])\n",
    "\n",
    "dec_df_logit['cum number of impressions'] = dec_df_logit['number of impressions'].cumsum()\n",
    "dec_df_logit['cum prop of impressions'] = dec_df_logit['cum number of impressions']/tot_impressions\n",
    "dec_df_logit['cum number of clicks'] = dec_df_logit['number of clicks'].cumsum()\n",
    "dec_df_logit['ctr'] = dec_df_logit['number of clicks']/dec_df_logit['number of impressions']\n",
    "dec_df_logit['cum ctr'] = dec_df_logit['cum number of clicks']/dec_df_logit['cum number of impressions']\n",
    "dec_df_logit['lift'] = dec_df_logit['ctr']/overall_ctr\n",
    "dec_df_logit['cum lift'] = dec_df_logit['cum ctr']/overall_ctr"
   ]
  },
  {
   "cell_type": "code",
   "execution_count": 38,
   "metadata": {},
   "outputs": [
    {
     "data": {
      "text/html": [
       "<div>\n",
       "<style scoped>\n",
       "    .dataframe tbody tr th:only-of-type {\n",
       "        vertical-align: middle;\n",
       "    }\n",
       "\n",
       "    .dataframe tbody tr th {\n",
       "        vertical-align: top;\n",
       "    }\n",
       "\n",
       "    .dataframe thead th {\n",
       "        text-align: right;\n",
       "    }\n",
       "</style>\n",
       "<table border=\"1\" class=\"dataframe\">\n",
       "  <thead>\n",
       "    <tr style=\"text-align: right;\">\n",
       "      <th></th>\n",
       "      <th>dec_logit</th>\n",
       "      <th>lift</th>\n",
       "      <th>cum lift</th>\n",
       "    </tr>\n",
       "  </thead>\n",
       "  <tbody>\n",
       "    <tr>\n",
       "      <th>0</th>\n",
       "      <td>1</td>\n",
       "      <td>3.799786</td>\n",
       "      <td>3.799786</td>\n",
       "    </tr>\n",
       "    <tr>\n",
       "      <th>1</th>\n",
       "      <td>2</td>\n",
       "      <td>1.772676</td>\n",
       "      <td>2.786775</td>\n",
       "    </tr>\n",
       "    <tr>\n",
       "      <th>2</th>\n",
       "      <td>3</td>\n",
       "      <td>1.553873</td>\n",
       "      <td>2.376446</td>\n",
       "    </tr>\n",
       "    <tr>\n",
       "      <th>3</th>\n",
       "      <td>4</td>\n",
       "      <td>1.106734</td>\n",
       "      <td>2.058705</td>\n",
       "    </tr>\n",
       "    <tr>\n",
       "      <th>4</th>\n",
       "      <td>5</td>\n",
       "      <td>0.552182</td>\n",
       "      <td>1.756646</td>\n",
       "    </tr>\n",
       "    <tr>\n",
       "      <th>5</th>\n",
       "      <td>6</td>\n",
       "      <td>0.258238</td>\n",
       "      <td>1.506837</td>\n",
       "    </tr>\n",
       "    <tr>\n",
       "      <th>6</th>\n",
       "      <td>7</td>\n",
       "      <td>0.258423</td>\n",
       "      <td>1.328556</td>\n",
       "    </tr>\n",
       "    <tr>\n",
       "      <th>7</th>\n",
       "      <td>8</td>\n",
       "      <td>0.110673</td>\n",
       "      <td>1.176273</td>\n",
       "    </tr>\n",
       "    <tr>\n",
       "      <th>8</th>\n",
       "      <td>9</td>\n",
       "      <td>0.147565</td>\n",
       "      <td>1.061940</td>\n",
       "    </tr>\n",
       "    <tr>\n",
       "      <th>9</th>\n",
       "      <td>10</td>\n",
       "      <td>0.442694</td>\n",
       "      <td>1.000000</td>\n",
       "    </tr>\n",
       "  </tbody>\n",
       "</table>\n",
       "</div>"
      ],
      "text/plain": [
       "   dec_logit      lift  cum lift\n",
       "0          1  3.799786  3.799786\n",
       "1          2  1.772676  2.786775\n",
       "2          3  1.553873  2.376446\n",
       "3          4  1.106734  2.058705\n",
       "4          5  0.552182  1.756646\n",
       "5          6  0.258238  1.506837\n",
       "6          7  0.258423  1.328556\n",
       "7          8  0.110673  1.176273\n",
       "8          9  0.147565  1.061940\n",
       "9         10  0.442694  1.000000"
      ]
     },
     "execution_count": 38,
     "metadata": {},
     "output_type": "execute_result"
    }
   ],
   "source": [
    "dec_df_logit[['dec_logit','lift','cum lift']]"
   ]
  },
  {
   "cell_type": "markdown",
   "metadata": {},
   "source": [
    "b. Use seaborn or matplotlib to create a chart showing the cumulative lift per decile. Put cumulative\n",
    "lift on the Y-axis and cumulative proportion of impressions on the X-axis"
   ]
  },
  {
   "cell_type": "code",
   "execution_count": 39,
   "metadata": {},
   "outputs": [
    {
     "data": {
      "text/plain": [
       "<matplotlib.lines.Line2D at 0x7f41a89005e0>"
      ]
     },
     "execution_count": 39,
     "metadata": {},
     "output_type": "execute_result"
    },
    {
     "data": {
      "image/png": "[encoded data removed]",
      "text/plain": [
       "<Figure size 1200x800 with 1 Axes>"
      ]
     },
     "metadata": {
      "needs_background": "light"
     },
     "output_type": "display_data"
    }
   ],
   "source": [
    "# insert your answer here\n",
    "\n",
    "fig = sns.scatterplot(x='cum prop of impressions',y='cum lift',data=dec_df_logit)\n",
    "fig.set(xlabel='Cumulative proportion of impressions', ylabel='Cumulative lift')\n",
    "plt.plot(dec_df_logit['cum prop of impressions'], dec_df_logit['cum lift'])\n",
    "plt.axhline(y=1.0, linestyle='--')"
   ]
  },
  {
   "cell_type": "markdown",
   "metadata": {},
   "source": [
    "c. Use the data frame you created in II.c above to generate a table with gains and cumulative gains\n",
    "numbers for each decile"
   ]
  },
  {
   "cell_type": "code",
   "execution_count": 40,
   "metadata": {},
   "outputs": [],
   "source": [
    "# insert your answer here\n",
    "tot_clicks = sum(dec_df_logit['number of clicks'])\n",
    "\n",
    "dec_df_logit['gains'] = dec_df_logit['number of clicks']/tot_clicks\n",
    "dec_df_logit['cum gains'] = dec_df_logit['cum number of clicks']/tot_clicks"
   ]
  },
  {
   "cell_type": "code",
   "execution_count": 41,
   "metadata": {},
   "outputs": [
    {
     "data": {
      "text/html": [
       "<div>\n",
       "<style scoped>\n",
       "    .dataframe tbody tr th:only-of-type {\n",
       "        vertical-align: middle;\n",
       "    }\n",
       "\n",
       "    .dataframe tbody tr th {\n",
       "        vertical-align: top;\n",
       "    }\n",
       "\n",
       "    .dataframe thead th {\n",
       "        text-align: right;\n",
       "    }\n",
       "</style>\n",
       "<table border=\"1\" class=\"dataframe\">\n",
       "  <thead>\n",
       "    <tr style=\"text-align: right;\">\n",
       "      <th></th>\n",
       "      <th>dec_logit</th>\n",
       "      <th>gains</th>\n",
       "      <th>cum gains</th>\n",
       "    </tr>\n",
       "  </thead>\n",
       "  <tbody>\n",
       "    <tr>\n",
       "      <th>0</th>\n",
       "      <td>1</td>\n",
       "      <td>0.380074</td>\n",
       "      <td>0.380074</td>\n",
       "    </tr>\n",
       "    <tr>\n",
       "      <th>1</th>\n",
       "      <td>2</td>\n",
       "      <td>0.177122</td>\n",
       "      <td>0.557196</td>\n",
       "    </tr>\n",
       "    <tr>\n",
       "      <th>2</th>\n",
       "      <td>3</td>\n",
       "      <td>0.154982</td>\n",
       "      <td>0.712177</td>\n",
       "    </tr>\n",
       "    <tr>\n",
       "      <th>3</th>\n",
       "      <td>4</td>\n",
       "      <td>0.110701</td>\n",
       "      <td>0.822878</td>\n",
       "    </tr>\n",
       "    <tr>\n",
       "      <th>4</th>\n",
       "      <td>5</td>\n",
       "      <td>0.055351</td>\n",
       "      <td>0.878229</td>\n",
       "    </tr>\n",
       "    <tr>\n",
       "      <th>5</th>\n",
       "      <td>6</td>\n",
       "      <td>0.025830</td>\n",
       "      <td>0.904059</td>\n",
       "    </tr>\n",
       "    <tr>\n",
       "      <th>6</th>\n",
       "      <td>7</td>\n",
       "      <td>0.025830</td>\n",
       "      <td>0.929889</td>\n",
       "    </tr>\n",
       "    <tr>\n",
       "      <th>7</th>\n",
       "      <td>8</td>\n",
       "      <td>0.011070</td>\n",
       "      <td>0.940959</td>\n",
       "    </tr>\n",
       "    <tr>\n",
       "      <th>8</th>\n",
       "      <td>9</td>\n",
       "      <td>0.014760</td>\n",
       "      <td>0.955720</td>\n",
       "    </tr>\n",
       "    <tr>\n",
       "      <th>9</th>\n",
       "      <td>10</td>\n",
       "      <td>0.044280</td>\n",
       "      <td>1.000000</td>\n",
       "    </tr>\n",
       "  </tbody>\n",
       "</table>\n",
       "</div>"
      ],
      "text/plain": [
       "   dec_logit     gains  cum gains\n",
       "0          1  0.380074   0.380074\n",
       "1          2  0.177122   0.557196\n",
       "2          3  0.154982   0.712177\n",
       "3          4  0.110701   0.822878\n",
       "4          5  0.055351   0.878229\n",
       "5          6  0.025830   0.904059\n",
       "6          7  0.025830   0.929889\n",
       "7          8  0.011070   0.940959\n",
       "8          9  0.014760   0.955720\n",
       "9         10  0.044280   1.000000"
      ]
     },
     "execution_count": 41,
     "metadata": {},
     "output_type": "execute_result"
    }
   ],
   "source": [
    "dec_df_logit[['dec_logit','gains','cum gains']]"
   ]
  },
  {
   "cell_type": "markdown",
   "metadata": {},
   "source": [
    "d. Use seaborn or matplotlib to create a chart showing the cumulative gains per decile along with a\n",
    "(diagonal) reference line to represent the \"no model\" scenario. Put cumulative gains on the Y-axis and\n",
    "cumulative proportion of impressions on the X-axis"
   ]
  },
  {
   "cell_type": "code",
   "execution_count": 42,
   "metadata": {},
   "outputs": [
    {
     "data": {
      "text/plain": [
       "<matplotlib.lines._AxLine at 0x7f41a88e2760>"
      ]
     },
     "execution_count": 42,
     "metadata": {},
     "output_type": "execute_result"
    },
    {
     "data": {
      "image/png": "[encoded data removed]",
      "text/plain": [
       "<Figure size 1200x800 with 1 Axes>"
      ]
     },
     "metadata": {
      "needs_background": "light"
     },
     "output_type": "display_data"
    }
   ],
   "source": [
    "# insert your answer here\n",
    "plot_dat = dec_df_logit[['dec_logit','cum prop of impressions','cum gains']]\n",
    "\n",
    "new_row = pd.DataFrame({'dec_logit':0, 'cum prop of impressions':0.0, 'cum gains':0.0}, index =[0])\n",
    "plot_dat = pd.concat([new_row, plot_dat]).reset_index(drop = True)\n",
    "\n",
    "fig = sns.scatterplot(x='cum prop of impressions',y='cum gains',data=plot_dat)\n",
    "fig.set(xlabel='Cumulative proportion of impressions', ylabel='Cumulative gains')\n",
    "plt.plot(plot_dat['cum prop of impressions'], plot_dat['cum gains'])\n",
    "plt.axline((0,0),(1,1), linestyle='--')"
   ]
  },
  {
   "cell_type": "markdown",
   "metadata": {},
   "source": [
    "# Part IV: Confusion matrix"
   ]
  },
  {
   "cell_type": "markdown",
   "metadata": {},
   "source": [
    "a. Create a “confusion matrix” based on the predictions from the logistic regression model you estimated\n",
    "above for I.a. Again, use only data from the test set here (i.e., “training == ‘test’ ”). Use the\n",
    "financial assumptions mentioned above, and repeated in section V below, to determine an appropriate\n",
    "cut-off (i.e., break-even). Calculate “accuracy” based on the confusion matrix you created (see http:\n",
    "//lab.rady.ucsd.edu/sawtooth/RBusinessAnalytics/logit_models.html for an example using R)\n",
    "Note: Do not use any specialized packages to construct the confusion matrix"
   ]
  },
  {
   "cell_type": "code",
   "execution_count": 43,
   "metadata": {},
   "outputs": [],
   "source": [
    "# insert your answer here\n",
    "cost_per_impression = 10/1000\n",
    "conversion = 0.05\n",
    "clv = 25\n",
    "profit = (conversion*clv) - (cost_per_impression)\n",
    "\n",
    "breakeven = cost_per_impression/profit"
   ]
  },
  {
   "cell_type": "code",
   "execution_count": 44,
   "metadata": {},
   "outputs": [
    {
     "name": "stderr",
     "output_type": "stream",
     "text": [
      "<ipython-input-44-1394af7176cc>:1: SettingWithCopyWarning: \n",
      "A value is trying to be set on a copy of a slice from a DataFrame.\n",
      "Try using .loc[row_indexer,col_indexer] = value instead\n",
      "\n",
      "See the caveats in the documentation: https://pandas.pydata.org/pandas-docs/stable/user_guide/indexing.html#returning-a-view-versus-a-copy\n",
      "  tz_gaming_test['click_pred'] = (tz_gaming_test['click_logit'] > breakeven).astype(int)\n"
     ]
    }
   ],
   "source": [
    "tz_gaming_test['click_pred'] = (tz_gaming_test['click_logit'] > breakeven).astype(int)"
   ]
  },
  {
   "cell_type": "code",
   "execution_count": 45,
   "metadata": {},
   "outputs": [
    {
     "data": {
      "text/html": [
       "<div>\n",
       "<style scoped>\n",
       "    .dataframe tbody tr th:only-of-type {\n",
       "        vertical-align: middle;\n",
       "    }\n",
       "\n",
       "    .dataframe tbody tr th {\n",
       "        vertical-align: top;\n",
       "    }\n",
       "\n",
       "    .dataframe thead th {\n",
       "        text-align: right;\n",
       "    }\n",
       "</style>\n",
       "<table border=\"1\" class=\"dataframe\">\n",
       "  <thead>\n",
       "    <tr style=\"text-align: right;\">\n",
       "      <th>click_yes</th>\n",
       "      <th>0</th>\n",
       "      <th>1</th>\n",
       "    </tr>\n",
       "    <tr>\n",
       "      <th>click_pred</th>\n",
       "      <th></th>\n",
       "      <th></th>\n",
       "    </tr>\n",
       "  </thead>\n",
       "  <tbody>\n",
       "    <tr>\n",
       "      <th>0</th>\n",
       "      <td>17094</td>\n",
       "      <td>50</td>\n",
       "    </tr>\n",
       "    <tr>\n",
       "      <th>1</th>\n",
       "      <td>10588</td>\n",
       "      <td>221</td>\n",
       "    </tr>\n",
       "  </tbody>\n",
       "</table>\n",
       "</div>"
      ],
      "text/plain": [
       "click_yes       0    1\n",
       "click_pred            \n",
       "0           17094   50\n",
       "1           10588  221"
      ]
     },
     "execution_count": 45,
     "metadata": {},
     "output_type": "execute_result"
    }
   ],
   "source": [
    "conf_matrix = pd.crosstab(tz_gaming_test['click_pred'], tz_gaming_test['click_yes'])\n",
    "conf_matrix"
   ]
  },
  {
   "cell_type": "code",
   "execution_count": 46,
   "metadata": {},
   "outputs": [],
   "source": [
    "TN = conf_matrix.iloc[0,0]\n",
    "TP = conf_matrix.iloc[1,1]\n",
    "FP = conf_matrix.iloc[1,0]\n",
    "FN = conf_matrix.iloc[0,1]"
   ]
  },
  {
   "cell_type": "code",
   "execution_count": 47,
   "metadata": {},
   "outputs": [
    {
     "name": "stdout",
     "output_type": "stream",
     "text": [
      "The accuracy of the model is 61.94%\n"
     ]
    }
   ],
   "source": [
    "accuracy = (TP + TN)/(TP + TN + FP + FN)\n",
    "print(f'The accuracy of the model is {round(accuracy*100,2)}%')"
   ]
  },
  {
   "cell_type": "markdown",
   "metadata": {},
   "source": [
    "b. Calculate a confusion matrix based on predictions from a logistic regression with click_yes as the\n",
    "response variable and rnd as the only explanatory variable. As before, the model should be estimated\n",
    "on training sample (i.e., “training == ‘train’ ”). Generate predictions for all rows in the data and create\n",
    "the confusion matrix based only on the test set (i.e., “training == ‘test’ ”). Calculate “accuracy” based\n",
    "on the confusion matrix you created."
   ]
  },
  {
   "cell_type": "code",
   "execution_count": 48,
   "metadata": {},
   "outputs": [],
   "source": [
    "# insert your answer here\n",
    "lr_mod_4b = smf.glm(\n",
    "    formula=\"click_yes ~ rnd\",\n",
    "    family=Binomial(link=logit()),\n",
    "    data=tz_gaming.query(\"training == 'train'\")\n",
    ")"
   ]
  },
  {
   "cell_type": "code",
   "execution_count": 49,
   "metadata": {},
   "outputs": [],
   "source": [
    "lr_4b = lr_mod_4b.fit()"
   ]
  },
  {
   "cell_type": "code",
   "execution_count": 50,
   "metadata": {},
   "outputs": [],
   "source": [
    "tz_gaming_4b = tz_gaming\n",
    "\n",
    "tz_gaming_4b['click_logit'] = lr_4b.predict(tz_gaming_4b[['rnd']])\n",
    "tz_gaming_4b['click_pred'] = (tz_gaming_4b['click_logit'] > breakeven).astype(int)"
   ]
  },
  {
   "cell_type": "code",
   "execution_count": 51,
   "metadata": {},
   "outputs": [
    {
     "data": {
      "text/html": [
       "<div>\n",
       "<style scoped>\n",
       "    .dataframe tbody tr th:only-of-type {\n",
       "        vertical-align: middle;\n",
       "    }\n",
       "\n",
       "    .dataframe tbody tr th {\n",
       "        vertical-align: top;\n",
       "    }\n",
       "\n",
       "    .dataframe thead th {\n",
       "        text-align: right;\n",
       "    }\n",
       "</style>\n",
       "<table border=\"1\" class=\"dataframe\">\n",
       "  <thead>\n",
       "    <tr style=\"text-align: right;\">\n",
       "      <th>click_yes</th>\n",
       "      <th>0</th>\n",
       "      <th>1</th>\n",
       "    </tr>\n",
       "    <tr>\n",
       "      <th>click_pred</th>\n",
       "      <th></th>\n",
       "      <th></th>\n",
       "    </tr>\n",
       "  </thead>\n",
       "  <tbody>\n",
       "    <tr>\n",
       "      <th>0</th>\n",
       "      <td>137</td>\n",
       "      <td>0</td>\n",
       "    </tr>\n",
       "    <tr>\n",
       "      <th>1</th>\n",
       "      <td>27545</td>\n",
       "      <td>271</td>\n",
       "    </tr>\n",
       "  </tbody>\n",
       "</table>\n",
       "</div>"
      ],
      "text/plain": [
       "click_yes       0    1\n",
       "click_pred            \n",
       "0             137    0\n",
       "1           27545  271"
      ]
     },
     "execution_count": 51,
     "metadata": {},
     "output_type": "execute_result"
    }
   ],
   "source": [
    "tz_gaming_4b_test = tz_gaming_4b.query('training == \"test\"')\n",
    "\n",
    "conf_matrix = pd.crosstab(tz_gaming_4b_test['click_pred'], tz_gaming_4b_test['click_yes'])\n",
    "conf_matrix"
   ]
  },
  {
   "cell_type": "code",
   "execution_count": 52,
   "metadata": {},
   "outputs": [],
   "source": [
    "TN = conf_matrix.iloc[0,0]\n",
    "TP = conf_matrix.iloc[1,1]\n",
    "FP = conf_matrix.iloc[1,0]\n",
    "FN = conf_matrix.iloc[0,1]"
   ]
  },
  {
   "cell_type": "code",
   "execution_count": 53,
   "metadata": {},
   "outputs": [
    {
     "name": "stdout",
     "output_type": "stream",
     "text": [
      "The accuracy of the model is 1.46%\n"
     ]
    }
   ],
   "source": [
    "accuracy = (TP + TN)/(TP + TN + FP + FN)\n",
    "print(f'The accuracy of the model is {round(accuracy*100,2)}%')"
   ]
  },
  {
   "cell_type": "markdown",
   "metadata": {},
   "source": [
    "c. Discuss the similarities and differences between the two confusion matrices. Which model is best, based\n",
    "on the confusion matrix? Provide support for your conclusions.\n",
    "4"
   ]
  },
  {
   "cell_type": "code",
   "execution_count": 54,
   "metadata": {},
   "outputs": [],
   "source": [
    "# insert your answer here"
   ]
  },
  {
   "cell_type": "markdown",
   "metadata": {},
   "source": [
    "d. Recalculate the confusion matrices from IV.a and IV.b using 0.5 as the cutoff. Based on these new\n",
    "matrices, discuss again the similarities and differences. Which model is best based on the confusion\n",
    "matrix? Provide support for your conclusions."
   ]
  },
  {
   "cell_type": "code",
   "execution_count": 55,
   "metadata": {},
   "outputs": [
    {
     "name": "stderr",
     "output_type": "stream",
     "text": [
      "<ipython-input-55-5c387aac561e>:2: SettingWithCopyWarning: \n",
      "A value is trying to be set on a copy of a slice from a DataFrame.\n",
      "Try using .loc[row_indexer,col_indexer] = value instead\n",
      "\n",
      "See the caveats in the documentation: https://pandas.pydata.org/pandas-docs/stable/user_guide/indexing.html#returning-a-view-versus-a-copy\n",
      "  tz_gaming_test['click_pred_new'] = (tz_gaming_test['click_logit'] > 0.5).astype(int)\n"
     ]
    },
    {
     "data": {
      "text/html": [
       "<div>\n",
       "<style scoped>\n",
       "    .dataframe tbody tr th:only-of-type {\n",
       "        vertical-align: middle;\n",
       "    }\n",
       "\n",
       "    .dataframe tbody tr th {\n",
       "        vertical-align: top;\n",
       "    }\n",
       "\n",
       "    .dataframe thead th {\n",
       "        text-align: right;\n",
       "    }\n",
       "</style>\n",
       "<table border=\"1\" class=\"dataframe\">\n",
       "  <thead>\n",
       "    <tr style=\"text-align: right;\">\n",
       "      <th>click_yes</th>\n",
       "      <th>0</th>\n",
       "      <th>1</th>\n",
       "    </tr>\n",
       "    <tr>\n",
       "      <th>click_pred_new</th>\n",
       "      <th></th>\n",
       "      <th></th>\n",
       "    </tr>\n",
       "  </thead>\n",
       "  <tbody>\n",
       "    <tr>\n",
       "      <th>0</th>\n",
       "      <td>27682</td>\n",
       "      <td>271</td>\n",
       "    </tr>\n",
       "  </tbody>\n",
       "</table>\n",
       "</div>"
      ],
      "text/plain": [
       "click_yes           0    1\n",
       "click_pred_new            \n",
       "0               27682  271"
      ]
     },
     "execution_count": 55,
     "metadata": {},
     "output_type": "execute_result"
    }
   ],
   "source": [
    "# insert your answer here\n",
    "tz_gaming_test['click_pred_new'] = (tz_gaming_test['click_logit'] > 0.5).astype(int)\n",
    "conf_matrix = pd.crosstab(tz_gaming_test['click_pred_new'], tz_gaming_test['click_yes'])\n",
    "conf_matrix"
   ]
  },
  {
   "cell_type": "code",
   "execution_count": 56,
   "metadata": {},
   "outputs": [],
   "source": [
    "TN = conf_matrix.iloc[0,0]\n",
    "FN = conf_matrix.iloc[0,1]"
   ]
  },
  {
   "cell_type": "code",
   "execution_count": 57,
   "metadata": {},
   "outputs": [
    {
     "name": "stdout",
     "output_type": "stream",
     "text": [
      "The accuracy of the model from IV.a using a breakeven of 0.5 is 99.03%\n"
     ]
    }
   ],
   "source": [
    "accuracy = (TN)/(TN + FN)\n",
    "print(f'The accuracy of the model from IV.a using a breakeven of 0.5 is {round(accuracy*100,2)}%')"
   ]
  },
  {
   "cell_type": "code",
   "execution_count": 58,
   "metadata": {},
   "outputs": [
    {
     "data": {
      "text/html": [
       "<div>\n",
       "<style scoped>\n",
       "    .dataframe tbody tr th:only-of-type {\n",
       "        vertical-align: middle;\n",
       "    }\n",
       "\n",
       "    .dataframe tbody tr th {\n",
       "        vertical-align: top;\n",
       "    }\n",
       "\n",
       "    .dataframe thead th {\n",
       "        text-align: right;\n",
       "    }\n",
       "</style>\n",
       "<table border=\"1\" class=\"dataframe\">\n",
       "  <thead>\n",
       "    <tr style=\"text-align: right;\">\n",
       "      <th>click_yes</th>\n",
       "      <th>0</th>\n",
       "      <th>1</th>\n",
       "    </tr>\n",
       "    <tr>\n",
       "      <th>click_pred_new</th>\n",
       "      <th></th>\n",
       "      <th></th>\n",
       "    </tr>\n",
       "  </thead>\n",
       "  <tbody>\n",
       "    <tr>\n",
       "      <th>0</th>\n",
       "      <td>27682</td>\n",
       "      <td>271</td>\n",
       "    </tr>\n",
       "  </tbody>\n",
       "</table>\n",
       "</div>"
      ],
      "text/plain": [
       "click_yes           0    1\n",
       "click_pred_new            \n",
       "0               27682  271"
      ]
     },
     "execution_count": 58,
     "metadata": {},
     "output_type": "execute_result"
    }
   ],
   "source": [
    "tz_gaming_4b['click_pred_new'] = (tz_gaming_4b['click_logit'] > 0.5).astype(int)\n",
    "tz_gaming_4b_test = tz_gaming_4b.query('training == \"test\"')\n",
    "\n",
    "conf_matrix = pd.crosstab(tz_gaming_4b_test['click_pred_new'], tz_gaming_4b_test['click_yes'])\n",
    "conf_matrix"
   ]
  },
  {
   "cell_type": "code",
   "execution_count": 59,
   "metadata": {},
   "outputs": [],
   "source": [
    "TN = conf_matrix.iloc[0,0]\n",
    "FN = conf_matrix.iloc[0,1]"
   ]
  },
  {
   "cell_type": "code",
   "execution_count": 60,
   "metadata": {},
   "outputs": [
    {
     "name": "stdout",
     "output_type": "stream",
     "text": [
      "The accuracy of the model from IV.b using a breakeven of 0.5 is 99.03%\n"
     ]
    }
   ],
   "source": [
    "accuracy = (TN)/(TN + FN)\n",
    "print(f'The accuracy of the model from IV.b using a breakeven of 0.5 is {round(accuracy*100,2)}%')"
   ]
  },
  {
   "cell_type": "markdown",
   "metadata": {},
   "source": [
    "## Part V: Profitability Analysis"
   ]
  },
  {
   "cell_type": "markdown",
   "metadata": {},
   "source": [
    "a. Create a new variable target_logit that is True if the predicted click-through probability is greater\n",
    "than the break-even response rate you calculated in IV.a and FALSE otherwise"
   ]
  },
  {
   "cell_type": "code",
   "execution_count": 61,
   "metadata": {},
   "outputs": [
    {
     "name": "stderr",
     "output_type": "stream",
     "text": [
      "<ipython-input-61-03a128c38c79>:2: SettingWithCopyWarning: \n",
      "A value is trying to be set on a copy of a slice from a DataFrame.\n",
      "Try using .loc[row_indexer,col_indexer] = value instead\n",
      "\n",
      "See the caveats in the documentation: https://pandas.pydata.org/pandas-docs/stable/user_guide/indexing.html#returning-a-view-versus-a-copy\n",
      "  tz_gaming_test['target_logit'] = (tz_gaming_test['click_logit'] > breakeven)\n"
     ]
    }
   ],
   "source": [
    "# insert your answer here\n",
    "tz_gaming_test['target_logit'] = (tz_gaming_test['click_logit'] > breakeven)"
   ]
  },
  {
   "cell_type": "markdown",
   "metadata": {},
   "source": [
    "b. For the test set (i.e, “training == ‘test’ ”), what is the expected profit (in dollars) and the expected\n",
    "return on marketing expenditures (ROME) if TZ used (1) no targeting, (2) purchased the data from\n",
    "Vneta and used the logistic regression from I.a for targeting, or (3) used Vneta’s data science consulting\n",
    "services? You can use the click_vneta variable to create a target_vneta variable and calculate the\n",
    "expected profit and the expected return on marketing expenditures\n",
    "\n",
    "Note: To estimate the performance implications of “no targeting” approach use the predictions\n",
    "from the model you estimated in IV.b"
   ]
  },
  {
   "cell_type": "code",
   "execution_count": 68,
   "metadata": {},
   "outputs": [],
   "source": [
    "cost_per_impression = 10/1000\n",
    "conversion = 0.05\n",
    "clv = 25\n",
    "profit = (conversion*clv) - (cost_per_impression)\n",
    "dat_charge = 50000\n",
    "consultation_charge = 150000"
   ]
  },
  {
   "cell_type": "code",
   "execution_count": 83,
   "metadata": {},
   "outputs": [
    {
     "name": "stderr",
     "output_type": "stream",
     "text": [
      "<ipython-input-83-68e323be03a4>:1: SettingWithCopyWarning: \n",
      "A value is trying to be set on a copy of a slice from a DataFrame.\n",
      "Try using .loc[row_indexer,col_indexer] = value instead\n",
      "\n",
      "See the caveats in the documentation: https://pandas.pydata.org/pandas-docs/stable/user_guide/indexing.html#returning-a-view-versus-a-copy\n",
      "  tz_gaming_4b_test['target_logit'] = (tz_gaming_4b_test['click_logit'] > breakeven)\n"
     ]
    }
   ],
   "source": [
    "tz_gaming_4b_test['target_logit'] = (tz_gaming_4b_test['click_logit'] > breakeven)"
   ]
  },
  {
   "cell_type": "code",
   "execution_count": 97,
   "metadata": {},
   "outputs": [
    {
     "name": "stdout",
     "output_type": "stream",
     "text": [
      "The expected profit for no targeting is $305.06 and the return on marketing expenditure is 109.67%\n"
     ]
    }
   ],
   "source": [
    "n_impressions = tz_gaming_4b_test['target_logit'].sum()\n",
    "tot_cost_impressions = n_impressions*cost_per_impression\n",
    "\n",
    "profit_nt = (profit*tz_gaming_4b_test.loc[tz_gaming_4b_test['target_logit'],'click_logit']).sum()\n",
    "ROME = profit_nt/tot_cost_impressions\n",
    "\n",
    "print(f'The expected profit for no targeting is ${round(profit_nt,2)} and the return on marketing expenditure is {round(ROME*100,2)}%')"
   ]
  },
  {
   "cell_type": "code",
   "execution_count": 104,
   "metadata": {},
   "outputs": [
    {
     "name": "stdout",
     "output_type": "stream",
     "text": [
      "The expected profit from using the logistic regression from 1.a is $247.18 and the return on marketing expenditure is 228.68%\n"
     ]
    }
   ],
   "source": [
    "n_impressions = tz_gaming_test['target_logit'].sum()\n",
    "tot_cost_impressions = n_impressions*cost_per_impression\n",
    "\n",
    "profit_nt = (profit*tz_gaming_test.loc[tz_gaming_test['target_logit'],'click_logit']).sum() \n",
    "ROME = profit_nt/tot_cost_impressions\n",
    "\n",
    "print(f'The expected profit from using the logistic regression from 1.a is ${round(profit_nt,2)} and the return on marketing expenditure is {round(ROME*100,2)}%')"
   ]
  },
  {
   "cell_type": "code",
   "execution_count": 91,
   "metadata": {},
   "outputs": [
    {
     "name": "stderr",
     "output_type": "stream",
     "text": [
      "<ipython-input-91-5fbbab4861e6>:1: SettingWithCopyWarning: \n",
      "A value is trying to be set on a copy of a slice from a DataFrame.\n",
      "Try using .loc[row_indexer,col_indexer] = value instead\n",
      "\n",
      "See the caveats in the documentation: https://pandas.pydata.org/pandas-docs/stable/user_guide/indexing.html#returning-a-view-versus-a-copy\n",
      "  tz_gaming_test['target_vneta'] = (tz_gaming_test['click_vneta'] > breakeven)\n"
     ]
    }
   ],
   "source": [
    "tz_gaming_test['target_vneta'] = (tz_gaming_test['click_vneta'] > breakeven)"
   ]
  },
  {
   "cell_type": "code",
   "execution_count": 102,
   "metadata": {},
   "outputs": [
    {
     "name": "stdout",
     "output_type": "stream",
     "text": [
      "The expected profit from using Vneta’s data science consulting services is $93.16 and the return on marketing expenditure is 191.25%\n"
     ]
    }
   ],
   "source": [
    "n_impressions = tz_gaming_test['target_vneta'].sum()\n",
    "tot_cost_impressions = n_impressions*cost_per_impression\n",
    "\n",
    "profit_nt = (profit*tz_gaming_test.loc[tz_gaming_test['target_vneta'],'click_logit']).sum() \n",
    "ROME = profit_nt/tot_cost_impressions\n",
    "\n",
    "print(f'The expected profit from using Vneta’s data science consulting services is ${round(profit_nt,2)} and the return on marketing expenditure is {round(ROME*100,2)}%')"
   ]
  },
  {
   "cell_type": "markdown",
   "metadata": {},
   "source": [
    "c. Predict the profit and ROME implications for each of the 3 options if TZ purchases 20-million impression\n",
    "for the upcoming ad campaign? Use the results from (b) above to project the performance\n",
    "implications\n",
    "\n",
    "Note: The currently available data (+ the click_vneta prediction) are free as part of the partnership\n",
    "between Vneta and TZ-gaming. You should assume, however, that the total cost of the\n",
    "data would be (50K) and that the"
   ]
  },
  {
   "cell_type": "code",
   "execution_count": null,
   "metadata": {},
   "outputs": [],
   "source": [
    "# insert your answer here"
   ]
  },
  {
   "cell_type": "markdown",
   "metadata": {},
   "source": [
    "## Part VI: Model comparison"
   ]
  },
  {
   "cell_type": "markdown",
   "metadata": {},
   "source": [
    "a. The calculations in V.a through V.c above assume that the predicted probabilities are estimated\n",
    "without error. Calculate the confidence interval for the predictions from the logistic regression model\n",
    "shown below. Now redo the calculations from V.a through V.c, for this, adjusting for estimation errors.\n",
    "How do your results change?\n",
    "\n",
    "Create a variable `target_logit_lb` that is `True` if the predicted click-through probability is greater than the break-even response rate and `False` otherwise. Add the columns you need from the \"pred\" data frame to your data set"
   ]
  },
  {
   "cell_type": "code",
   "execution_count": null,
   "metadata": {},
   "outputs": [],
   "source": [
    "lr_mod = smf.glm(\n",
    "    formula=\"click_yes ~ mobile_os + impua + clua + ctrua\",\n",
    "    family=Binomial(link=logit()),\n",
    "    data=,\n",
    ")\n",
    "lr = lr_mod.fit()\n",
    "lr.summary()\n",
    "pred = rsm.predict_ci(lr, , alpha = 0.1)"
   ]
  },
  {
   "cell_type": "code",
   "execution_count": null,
   "metadata": {},
   "outputs": [],
   "source": [
    "# insert your answer here"
   ]
  },
  {
   "cell_type": "markdown",
   "metadata": {},
   "source": [
    "b. You have now estimated 3 different models and also have the predictions from Vneta (see prediction\n",
    "labels below). Compare the models using (1) profit calculations as in V.a through V.c and (2) a gains\n",
    "chart. Discuss which of these 5 models you would recommend to put into production and why."
   ]
  },
  {
   "cell_type": "code",
   "execution_count": null,
   "metadata": {},
   "outputs": [],
   "source": [
    "# insert your answer here"
   ]
  }
 ],
 "metadata": {
  "jupytext": {
   "cell_metadata_filter": "-all",
   "main_language": "python",
   "notebook_metadata_filter": "-all"
  },
  "kernelspec": {
   "display_name": "Python 3",
   "language": "python",
   "name": "python3"
  },
  "language_info": {
   "codemirror_mode": {
    "name": "ipython",
    "version": 3
   },
   "file_extension": ".py",
   "mimetype": "text/x-python",
   "name": "python",
   "nbconvert_exporter": "python",
   "pygments_lexer": "ipython3",
   "version": "3.8.5"
  }
 },
 "nbformat": 4,
 "nbformat_minor": 5
}
